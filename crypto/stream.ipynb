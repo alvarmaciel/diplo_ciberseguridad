{
 "cells": [
  {
   "cell_type": "markdown",
   "id": "3b5df7ce-28d3-445f-9680-42792a752d23",
   "metadata": {},
   "source": [
    "# Secuencia cifrante repetida\n",
    "En este desafío, el servidor proporciona 5 textos cifrados con un algoritmo de cifrado de flujo (no importa cual). De ellos, tres están cifrados con la misma secuencia cifrante.\n",
    "\n",
    "El desafío es descifrarlos y encontrar la secuencia cifrante.\n",
    "\n",
    "Los textos claros cifrados con la secuencia cifrante repetida tienen las siguientes características.\n",
    "\n",
    "- Están compuestos por caracteres ASCII imprimibles, sin espacios en blanco ni fines de línea. Esto implica que sus códigos están entre 33 y 126 inclusive.\n",
    "- Dos textos están compuestos por repeticiones de un mismo carácter. Por ejemplo, “AAAAAAAAAAAAAA” o “))))))))))))))))))))”\n",
    "- Todos los textos tienen la misma longitud.\n",
    "- Uno de los textos es la representación decimal de un número par. Por ejemplo “12345678”\n"
   ]
  },
  {
   "cell_type": "code",
   "execution_count": 5,
   "id": "a1a6f618-ea82-42ed-b42c-2df38baa6d1b",
   "metadata": {},
   "outputs": [],
   "source": [
    "import requests\n",
    "SERVER = \"https://ciberseguridad.diplomatura.unc.edu.ar/cripto\"\n",
    "EMAIL = \"alvarmaciel@gmail.com\"\n",
    "def get_challenge(challenge:str) -> str:\n",
    "    response =  requests.get(f\"{SERVER}/{challenge}/{EMAIL}/challenge\")\n",
    "    return response.text"
   ]
  },
  {
   "cell_type": "code",
   "execution_count": 40,
   "id": "6aa924ed-22e8-4908-b492-70fde192dc7d",
   "metadata": {},
   "outputs": [
    {
     "ename": "ConnectionError",
     "evalue": "HTTPSConnectionPool(host='ciberseguridad.diplomatura.unc.edu.ar', port=443): Max retries exceeded with url: /cripto/stream/alvarmaciel@gmail.com/challenge (Caused by NameResolutionError(\"<urllib3.connection.HTTPSConnection object at 0x7cfff2a0a850>: Failed to resolve 'ciberseguridad.diplomatura.unc.edu.ar' ([Errno -2] Name or service not known)\"))",
     "output_type": "error",
     "traceback": [
      "\u001b[31m---------------------------------------------------------------------------\u001b[39m",
      "\u001b[31mgaierror\u001b[39m                                  Traceback (most recent call last)",
      "\u001b[36mFile \u001b[39m\u001b[32m~/dev/diplo_ciberseguridad/.venv/lib/python3.13/site-packages/urllib3/connection.py:198\u001b[39m, in \u001b[36mHTTPConnection._new_conn\u001b[39m\u001b[34m(self)\u001b[39m\n\u001b[32m    197\u001b[39m \u001b[38;5;28;01mtry\u001b[39;00m:\n\u001b[32m--> \u001b[39m\u001b[32m198\u001b[39m     sock = \u001b[43mconnection\u001b[49m\u001b[43m.\u001b[49m\u001b[43mcreate_connection\u001b[49m\u001b[43m(\u001b[49m\n\u001b[32m    199\u001b[39m \u001b[43m        \u001b[49m\u001b[43m(\u001b[49m\u001b[38;5;28;43mself\u001b[39;49m\u001b[43m.\u001b[49m\u001b[43m_dns_host\u001b[49m\u001b[43m,\u001b[49m\u001b[43m \u001b[49m\u001b[38;5;28;43mself\u001b[39;49m\u001b[43m.\u001b[49m\u001b[43mport\u001b[49m\u001b[43m)\u001b[49m\u001b[43m,\u001b[49m\n\u001b[32m    200\u001b[39m \u001b[43m        \u001b[49m\u001b[38;5;28;43mself\u001b[39;49m\u001b[43m.\u001b[49m\u001b[43mtimeout\u001b[49m\u001b[43m,\u001b[49m\n\u001b[32m    201\u001b[39m \u001b[43m        \u001b[49m\u001b[43msource_address\u001b[49m\u001b[43m=\u001b[49m\u001b[38;5;28;43mself\u001b[39;49m\u001b[43m.\u001b[49m\u001b[43msource_address\u001b[49m\u001b[43m,\u001b[49m\n\u001b[32m    202\u001b[39m \u001b[43m        \u001b[49m\u001b[43msocket_options\u001b[49m\u001b[43m=\u001b[49m\u001b[38;5;28;43mself\u001b[39;49m\u001b[43m.\u001b[49m\u001b[43msocket_options\u001b[49m\u001b[43m,\u001b[49m\n\u001b[32m    203\u001b[39m \u001b[43m    \u001b[49m\u001b[43m)\u001b[49m\n\u001b[32m    204\u001b[39m \u001b[38;5;28;01mexcept\u001b[39;00m socket.gaierror \u001b[38;5;28;01mas\u001b[39;00m e:\n",
      "\u001b[36mFile \u001b[39m\u001b[32m~/dev/diplo_ciberseguridad/.venv/lib/python3.13/site-packages/urllib3/util/connection.py:60\u001b[39m, in \u001b[36mcreate_connection\u001b[39m\u001b[34m(address, timeout, source_address, socket_options)\u001b[39m\n\u001b[32m     58\u001b[39m     \u001b[38;5;28;01mraise\u001b[39;00m LocationParseError(\u001b[33mf\u001b[39m\u001b[33m\"\u001b[39m\u001b[33m'\u001b[39m\u001b[38;5;132;01m{\u001b[39;00mhost\u001b[38;5;132;01m}\u001b[39;00m\u001b[33m'\u001b[39m\u001b[33m, label empty or too long\u001b[39m\u001b[33m\"\u001b[39m) \u001b[38;5;28;01mfrom\u001b[39;00m\u001b[38;5;250m \u001b[39m\u001b[38;5;28;01mNone\u001b[39;00m\n\u001b[32m---> \u001b[39m\u001b[32m60\u001b[39m \u001b[38;5;28;01mfor\u001b[39;00m res \u001b[38;5;129;01min\u001b[39;00m \u001b[43msocket\u001b[49m\u001b[43m.\u001b[49m\u001b[43mgetaddrinfo\u001b[49m\u001b[43m(\u001b[49m\u001b[43mhost\u001b[49m\u001b[43m,\u001b[49m\u001b[43m \u001b[49m\u001b[43mport\u001b[49m\u001b[43m,\u001b[49m\u001b[43m \u001b[49m\u001b[43mfamily\u001b[49m\u001b[43m,\u001b[49m\u001b[43m \u001b[49m\u001b[43msocket\u001b[49m\u001b[43m.\u001b[49m\u001b[43mSOCK_STREAM\u001b[49m\u001b[43m)\u001b[49m:\n\u001b[32m     61\u001b[39m     af, socktype, proto, canonname, sa = res\n",
      "\u001b[36mFile \u001b[39m\u001b[32m~/.local/share/uv/python/cpython-3.13.0-linux-x86_64-gnu/lib/python3.13/socket.py:975\u001b[39m, in \u001b[36mgetaddrinfo\u001b[39m\u001b[34m(host, port, family, type, proto, flags)\u001b[39m\n\u001b[32m    974\u001b[39m addrlist = []\n\u001b[32m--> \u001b[39m\u001b[32m975\u001b[39m \u001b[38;5;28;01mfor\u001b[39;00m res \u001b[38;5;129;01min\u001b[39;00m \u001b[43m_socket\u001b[49m\u001b[43m.\u001b[49m\u001b[43mgetaddrinfo\u001b[49m\u001b[43m(\u001b[49m\u001b[43mhost\u001b[49m\u001b[43m,\u001b[49m\u001b[43m \u001b[49m\u001b[43mport\u001b[49m\u001b[43m,\u001b[49m\u001b[43m \u001b[49m\u001b[43mfamily\u001b[49m\u001b[43m,\u001b[49m\u001b[43m \u001b[49m\u001b[38;5;28;43mtype\u001b[39;49m\u001b[43m,\u001b[49m\u001b[43m \u001b[49m\u001b[43mproto\u001b[49m\u001b[43m,\u001b[49m\u001b[43m \u001b[49m\u001b[43mflags\u001b[49m\u001b[43m)\u001b[49m:\n\u001b[32m    976\u001b[39m     af, socktype, proto, canonname, sa = res\n",
      "\u001b[31mgaierror\u001b[39m: [Errno -2] Name or service not known",
      "\nThe above exception was the direct cause of the following exception:\n",
      "\u001b[31mNameResolutionError\u001b[39m                       Traceback (most recent call last)",
      "\u001b[36mFile \u001b[39m\u001b[32m~/dev/diplo_ciberseguridad/.venv/lib/python3.13/site-packages/urllib3/connectionpool.py:787\u001b[39m, in \u001b[36mHTTPConnectionPool.urlopen\u001b[39m\u001b[34m(self, method, url, body, headers, retries, redirect, assert_same_host, timeout, pool_timeout, release_conn, chunked, body_pos, preload_content, decode_content, **response_kw)\u001b[39m\n\u001b[32m    786\u001b[39m \u001b[38;5;66;03m# Make the request on the HTTPConnection object\u001b[39;00m\n\u001b[32m--> \u001b[39m\u001b[32m787\u001b[39m response = \u001b[38;5;28;43mself\u001b[39;49m\u001b[43m.\u001b[49m\u001b[43m_make_request\u001b[49m\u001b[43m(\u001b[49m\n\u001b[32m    788\u001b[39m \u001b[43m    \u001b[49m\u001b[43mconn\u001b[49m\u001b[43m,\u001b[49m\n\u001b[32m    789\u001b[39m \u001b[43m    \u001b[49m\u001b[43mmethod\u001b[49m\u001b[43m,\u001b[49m\n\u001b[32m    790\u001b[39m \u001b[43m    \u001b[49m\u001b[43murl\u001b[49m\u001b[43m,\u001b[49m\n\u001b[32m    791\u001b[39m \u001b[43m    \u001b[49m\u001b[43mtimeout\u001b[49m\u001b[43m=\u001b[49m\u001b[43mtimeout_obj\u001b[49m\u001b[43m,\u001b[49m\n\u001b[32m    792\u001b[39m \u001b[43m    \u001b[49m\u001b[43mbody\u001b[49m\u001b[43m=\u001b[49m\u001b[43mbody\u001b[49m\u001b[43m,\u001b[49m\n\u001b[32m    793\u001b[39m \u001b[43m    \u001b[49m\u001b[43mheaders\u001b[49m\u001b[43m=\u001b[49m\u001b[43mheaders\u001b[49m\u001b[43m,\u001b[49m\n\u001b[32m    794\u001b[39m \u001b[43m    \u001b[49m\u001b[43mchunked\u001b[49m\u001b[43m=\u001b[49m\u001b[43mchunked\u001b[49m\u001b[43m,\u001b[49m\n\u001b[32m    795\u001b[39m \u001b[43m    \u001b[49m\u001b[43mretries\u001b[49m\u001b[43m=\u001b[49m\u001b[43mretries\u001b[49m\u001b[43m,\u001b[49m\n\u001b[32m    796\u001b[39m \u001b[43m    \u001b[49m\u001b[43mresponse_conn\u001b[49m\u001b[43m=\u001b[49m\u001b[43mresponse_conn\u001b[49m\u001b[43m,\u001b[49m\n\u001b[32m    797\u001b[39m \u001b[43m    \u001b[49m\u001b[43mpreload_content\u001b[49m\u001b[43m=\u001b[49m\u001b[43mpreload_content\u001b[49m\u001b[43m,\u001b[49m\n\u001b[32m    798\u001b[39m \u001b[43m    \u001b[49m\u001b[43mdecode_content\u001b[49m\u001b[43m=\u001b[49m\u001b[43mdecode_content\u001b[49m\u001b[43m,\u001b[49m\n\u001b[32m    799\u001b[39m \u001b[43m    \u001b[49m\u001b[43m*\u001b[49m\u001b[43m*\u001b[49m\u001b[43mresponse_kw\u001b[49m\u001b[43m,\u001b[49m\n\u001b[32m    800\u001b[39m \u001b[43m\u001b[49m\u001b[43m)\u001b[49m\n\u001b[32m    802\u001b[39m \u001b[38;5;66;03m# Everything went great!\u001b[39;00m\n",
      "\u001b[36mFile \u001b[39m\u001b[32m~/dev/diplo_ciberseguridad/.venv/lib/python3.13/site-packages/urllib3/connectionpool.py:488\u001b[39m, in \u001b[36mHTTPConnectionPool._make_request\u001b[39m\u001b[34m(self, conn, method, url, body, headers, retries, timeout, chunked, response_conn, preload_content, decode_content, enforce_content_length)\u001b[39m\n\u001b[32m    487\u001b[39m         new_e = _wrap_proxy_error(new_e, conn.proxy.scheme)\n\u001b[32m--> \u001b[39m\u001b[32m488\u001b[39m     \u001b[38;5;28;01mraise\u001b[39;00m new_e\n\u001b[32m    490\u001b[39m \u001b[38;5;66;03m# conn.request() calls http.client.*.request, not the method in\u001b[39;00m\n\u001b[32m    491\u001b[39m \u001b[38;5;66;03m# urllib3.request. It also calls makefile (recv) on the socket.\u001b[39;00m\n",
      "\u001b[36mFile \u001b[39m\u001b[32m~/dev/diplo_ciberseguridad/.venv/lib/python3.13/site-packages/urllib3/connectionpool.py:464\u001b[39m, in \u001b[36mHTTPConnectionPool._make_request\u001b[39m\u001b[34m(self, conn, method, url, body, headers, retries, timeout, chunked, response_conn, preload_content, decode_content, enforce_content_length)\u001b[39m\n\u001b[32m    463\u001b[39m \u001b[38;5;28;01mtry\u001b[39;00m:\n\u001b[32m--> \u001b[39m\u001b[32m464\u001b[39m     \u001b[38;5;28;43mself\u001b[39;49m\u001b[43m.\u001b[49m\u001b[43m_validate_conn\u001b[49m\u001b[43m(\u001b[49m\u001b[43mconn\u001b[49m\u001b[43m)\u001b[49m\n\u001b[32m    465\u001b[39m \u001b[38;5;28;01mexcept\u001b[39;00m (SocketTimeout, BaseSSLError) \u001b[38;5;28;01mas\u001b[39;00m e:\n",
      "\u001b[36mFile \u001b[39m\u001b[32m~/dev/diplo_ciberseguridad/.venv/lib/python3.13/site-packages/urllib3/connectionpool.py:1093\u001b[39m, in \u001b[36mHTTPSConnectionPool._validate_conn\u001b[39m\u001b[34m(self, conn)\u001b[39m\n\u001b[32m   1092\u001b[39m \u001b[38;5;28;01mif\u001b[39;00m conn.is_closed:\n\u001b[32m-> \u001b[39m\u001b[32m1093\u001b[39m     \u001b[43mconn\u001b[49m\u001b[43m.\u001b[49m\u001b[43mconnect\u001b[49m\u001b[43m(\u001b[49m\u001b[43m)\u001b[49m\n\u001b[32m   1095\u001b[39m \u001b[38;5;66;03m# TODO revise this, see https://github.com/urllib3/urllib3/issues/2791\u001b[39;00m\n",
      "\u001b[36mFile \u001b[39m\u001b[32m~/dev/diplo_ciberseguridad/.venv/lib/python3.13/site-packages/urllib3/connection.py:753\u001b[39m, in \u001b[36mHTTPSConnection.connect\u001b[39m\u001b[34m(self)\u001b[39m\n\u001b[32m    752\u001b[39m sock: socket.socket | ssl.SSLSocket\n\u001b[32m--> \u001b[39m\u001b[32m753\u001b[39m \u001b[38;5;28mself\u001b[39m.sock = sock = \u001b[38;5;28;43mself\u001b[39;49m\u001b[43m.\u001b[49m\u001b[43m_new_conn\u001b[49m\u001b[43m(\u001b[49m\u001b[43m)\u001b[49m\n\u001b[32m    754\u001b[39m server_hostname: \u001b[38;5;28mstr\u001b[39m = \u001b[38;5;28mself\u001b[39m.host\n",
      "\u001b[36mFile \u001b[39m\u001b[32m~/dev/diplo_ciberseguridad/.venv/lib/python3.13/site-packages/urllib3/connection.py:205\u001b[39m, in \u001b[36mHTTPConnection._new_conn\u001b[39m\u001b[34m(self)\u001b[39m\n\u001b[32m    204\u001b[39m \u001b[38;5;28;01mexcept\u001b[39;00m socket.gaierror \u001b[38;5;28;01mas\u001b[39;00m e:\n\u001b[32m--> \u001b[39m\u001b[32m205\u001b[39m     \u001b[38;5;28;01mraise\u001b[39;00m NameResolutionError(\u001b[38;5;28mself\u001b[39m.host, \u001b[38;5;28mself\u001b[39m, e) \u001b[38;5;28;01mfrom\u001b[39;00m\u001b[38;5;250m \u001b[39m\u001b[34;01me\u001b[39;00m\n\u001b[32m    206\u001b[39m \u001b[38;5;28;01mexcept\u001b[39;00m SocketTimeout \u001b[38;5;28;01mas\u001b[39;00m e:\n",
      "\u001b[31mNameResolutionError\u001b[39m: <urllib3.connection.HTTPSConnection object at 0x7cfff2a0a850>: Failed to resolve 'ciberseguridad.diplomatura.unc.edu.ar' ([Errno -2] Name or service not known)",
      "\nThe above exception was the direct cause of the following exception:\n",
      "\u001b[31mMaxRetryError\u001b[39m                             Traceback (most recent call last)",
      "\u001b[36mFile \u001b[39m\u001b[32m~/dev/diplo_ciberseguridad/.venv/lib/python3.13/site-packages/requests/adapters.py:644\u001b[39m, in \u001b[36mHTTPAdapter.send\u001b[39m\u001b[34m(self, request, stream, timeout, verify, cert, proxies)\u001b[39m\n\u001b[32m    643\u001b[39m \u001b[38;5;28;01mtry\u001b[39;00m:\n\u001b[32m--> \u001b[39m\u001b[32m644\u001b[39m     resp = \u001b[43mconn\u001b[49m\u001b[43m.\u001b[49m\u001b[43murlopen\u001b[49m\u001b[43m(\u001b[49m\n\u001b[32m    645\u001b[39m \u001b[43m        \u001b[49m\u001b[43mmethod\u001b[49m\u001b[43m=\u001b[49m\u001b[43mrequest\u001b[49m\u001b[43m.\u001b[49m\u001b[43mmethod\u001b[49m\u001b[43m,\u001b[49m\n\u001b[32m    646\u001b[39m \u001b[43m        \u001b[49m\u001b[43murl\u001b[49m\u001b[43m=\u001b[49m\u001b[43murl\u001b[49m\u001b[43m,\u001b[49m\n\u001b[32m    647\u001b[39m \u001b[43m        \u001b[49m\u001b[43mbody\u001b[49m\u001b[43m=\u001b[49m\u001b[43mrequest\u001b[49m\u001b[43m.\u001b[49m\u001b[43mbody\u001b[49m\u001b[43m,\u001b[49m\n\u001b[32m    648\u001b[39m \u001b[43m        \u001b[49m\u001b[43mheaders\u001b[49m\u001b[43m=\u001b[49m\u001b[43mrequest\u001b[49m\u001b[43m.\u001b[49m\u001b[43mheaders\u001b[49m\u001b[43m,\u001b[49m\n\u001b[32m    649\u001b[39m \u001b[43m        \u001b[49m\u001b[43mredirect\u001b[49m\u001b[43m=\u001b[49m\u001b[38;5;28;43;01mFalse\u001b[39;49;00m\u001b[43m,\u001b[49m\n\u001b[32m    650\u001b[39m \u001b[43m        \u001b[49m\u001b[43massert_same_host\u001b[49m\u001b[43m=\u001b[49m\u001b[38;5;28;43;01mFalse\u001b[39;49;00m\u001b[43m,\u001b[49m\n\u001b[32m    651\u001b[39m \u001b[43m        \u001b[49m\u001b[43mpreload_content\u001b[49m\u001b[43m=\u001b[49m\u001b[38;5;28;43;01mFalse\u001b[39;49;00m\u001b[43m,\u001b[49m\n\u001b[32m    652\u001b[39m \u001b[43m        \u001b[49m\u001b[43mdecode_content\u001b[49m\u001b[43m=\u001b[49m\u001b[38;5;28;43;01mFalse\u001b[39;49;00m\u001b[43m,\u001b[49m\n\u001b[32m    653\u001b[39m \u001b[43m        \u001b[49m\u001b[43mretries\u001b[49m\u001b[43m=\u001b[49m\u001b[38;5;28;43mself\u001b[39;49m\u001b[43m.\u001b[49m\u001b[43mmax_retries\u001b[49m\u001b[43m,\u001b[49m\n\u001b[32m    654\u001b[39m \u001b[43m        \u001b[49m\u001b[43mtimeout\u001b[49m\u001b[43m=\u001b[49m\u001b[43mtimeout\u001b[49m\u001b[43m,\u001b[49m\n\u001b[32m    655\u001b[39m \u001b[43m        \u001b[49m\u001b[43mchunked\u001b[49m\u001b[43m=\u001b[49m\u001b[43mchunked\u001b[49m\u001b[43m,\u001b[49m\n\u001b[32m    656\u001b[39m \u001b[43m    \u001b[49m\u001b[43m)\u001b[49m\n\u001b[32m    658\u001b[39m \u001b[38;5;28;01mexcept\u001b[39;00m (ProtocolError, \u001b[38;5;167;01mOSError\u001b[39;00m) \u001b[38;5;28;01mas\u001b[39;00m err:\n",
      "\u001b[36mFile \u001b[39m\u001b[32m~/dev/diplo_ciberseguridad/.venv/lib/python3.13/site-packages/urllib3/connectionpool.py:841\u001b[39m, in \u001b[36mHTTPConnectionPool.urlopen\u001b[39m\u001b[34m(self, method, url, body, headers, retries, redirect, assert_same_host, timeout, pool_timeout, release_conn, chunked, body_pos, preload_content, decode_content, **response_kw)\u001b[39m\n\u001b[32m    839\u001b[39m     new_e = ProtocolError(\u001b[33m\"\u001b[39m\u001b[33mConnection aborted.\u001b[39m\u001b[33m\"\u001b[39m, new_e)\n\u001b[32m--> \u001b[39m\u001b[32m841\u001b[39m retries = \u001b[43mretries\u001b[49m\u001b[43m.\u001b[49m\u001b[43mincrement\u001b[49m\u001b[43m(\u001b[49m\n\u001b[32m    842\u001b[39m \u001b[43m    \u001b[49m\u001b[43mmethod\u001b[49m\u001b[43m,\u001b[49m\u001b[43m \u001b[49m\u001b[43murl\u001b[49m\u001b[43m,\u001b[49m\u001b[43m \u001b[49m\u001b[43merror\u001b[49m\u001b[43m=\u001b[49m\u001b[43mnew_e\u001b[49m\u001b[43m,\u001b[49m\u001b[43m \u001b[49m\u001b[43m_pool\u001b[49m\u001b[43m=\u001b[49m\u001b[38;5;28;43mself\u001b[39;49m\u001b[43m,\u001b[49m\u001b[43m \u001b[49m\u001b[43m_stacktrace\u001b[49m\u001b[43m=\u001b[49m\u001b[43msys\u001b[49m\u001b[43m.\u001b[49m\u001b[43mexc_info\u001b[49m\u001b[43m(\u001b[49m\u001b[43m)\u001b[49m\u001b[43m[\u001b[49m\u001b[32;43m2\u001b[39;49m\u001b[43m]\u001b[49m\n\u001b[32m    843\u001b[39m \u001b[43m\u001b[49m\u001b[43m)\u001b[49m\n\u001b[32m    844\u001b[39m retries.sleep()\n",
      "\u001b[36mFile \u001b[39m\u001b[32m~/dev/diplo_ciberseguridad/.venv/lib/python3.13/site-packages/urllib3/util/retry.py:519\u001b[39m, in \u001b[36mRetry.increment\u001b[39m\u001b[34m(self, method, url, response, error, _pool, _stacktrace)\u001b[39m\n\u001b[32m    518\u001b[39m     reason = error \u001b[38;5;129;01mor\u001b[39;00m ResponseError(cause)\n\u001b[32m--> \u001b[39m\u001b[32m519\u001b[39m     \u001b[38;5;28;01mraise\u001b[39;00m MaxRetryError(_pool, url, reason) \u001b[38;5;28;01mfrom\u001b[39;00m\u001b[38;5;250m \u001b[39m\u001b[34;01mreason\u001b[39;00m  \u001b[38;5;66;03m# type: ignore[arg-type]\u001b[39;00m\n\u001b[32m    521\u001b[39m log.debug(\u001b[33m\"\u001b[39m\u001b[33mIncremented Retry for (url=\u001b[39m\u001b[33m'\u001b[39m\u001b[38;5;132;01m%s\u001b[39;00m\u001b[33m'\u001b[39m\u001b[33m): \u001b[39m\u001b[38;5;132;01m%r\u001b[39;00m\u001b[33m\"\u001b[39m, url, new_retry)\n",
      "\u001b[31mMaxRetryError\u001b[39m: HTTPSConnectionPool(host='ciberseguridad.diplomatura.unc.edu.ar', port=443): Max retries exceeded with url: /cripto/stream/alvarmaciel@gmail.com/challenge (Caused by NameResolutionError(\"<urllib3.connection.HTTPSConnection object at 0x7cfff2a0a850>: Failed to resolve 'ciberseguridad.diplomatura.unc.edu.ar' ([Errno -2] Name or service not known)\"))",
      "\nDuring handling of the above exception, another exception occurred:\n",
      "\u001b[31mConnectionError\u001b[39m                           Traceback (most recent call last)",
      "\u001b[36mCell\u001b[39m\u001b[36m \u001b[39m\u001b[32mIn[40]\u001b[39m\u001b[32m, line 1\u001b[39m\n\u001b[32m----> \u001b[39m\u001b[32m1\u001b[39m raw_challenge = \u001b[43mget_challenge\u001b[49m\u001b[43m(\u001b[49m\u001b[33;43m\"\u001b[39;49m\u001b[33;43mstream\u001b[39;49m\u001b[33;43m\"\u001b[39;49m\u001b[43m)\u001b[49m\n\u001b[32m      2\u001b[39m raw_challenge\n",
      "\u001b[36mCell\u001b[39m\u001b[36m \u001b[39m\u001b[32mIn[5]\u001b[39m\u001b[32m, line 5\u001b[39m, in \u001b[36mget_challenge\u001b[39m\u001b[34m(challenge)\u001b[39m\n\u001b[32m      4\u001b[39m \u001b[38;5;28;01mdef\u001b[39;00m\u001b[38;5;250m \u001b[39m\u001b[34mget_challenge\u001b[39m(challenge:\u001b[38;5;28mstr\u001b[39m) -> \u001b[38;5;28mstr\u001b[39m:\n\u001b[32m----> \u001b[39m\u001b[32m5\u001b[39m     response =  \u001b[43mrequests\u001b[49m\u001b[43m.\u001b[49m\u001b[43mget\u001b[49m\u001b[43m(\u001b[49m\u001b[33;43mf\u001b[39;49m\u001b[33;43m\"\u001b[39;49m\u001b[38;5;132;43;01m{\u001b[39;49;00m\u001b[43mSERVER\u001b[49m\u001b[38;5;132;43;01m}\u001b[39;49;00m\u001b[33;43m/\u001b[39;49m\u001b[38;5;132;43;01m{\u001b[39;49;00m\u001b[43mchallenge\u001b[49m\u001b[38;5;132;43;01m}\u001b[39;49;00m\u001b[33;43m/\u001b[39;49m\u001b[38;5;132;43;01m{\u001b[39;49;00m\u001b[43mEMAIL\u001b[49m\u001b[38;5;132;43;01m}\u001b[39;49;00m\u001b[33;43m/challenge\u001b[39;49m\u001b[33;43m\"\u001b[39;49m\u001b[43m)\u001b[49m\n\u001b[32m      6\u001b[39m     \u001b[38;5;28;01mreturn\u001b[39;00m response.text\n",
      "\u001b[36mFile \u001b[39m\u001b[32m~/dev/diplo_ciberseguridad/.venv/lib/python3.13/site-packages/requests/api.py:73\u001b[39m, in \u001b[36mget\u001b[39m\u001b[34m(url, params, **kwargs)\u001b[39m\n\u001b[32m     62\u001b[39m \u001b[38;5;28;01mdef\u001b[39;00m\u001b[38;5;250m \u001b[39m\u001b[34mget\u001b[39m(url, params=\u001b[38;5;28;01mNone\u001b[39;00m, **kwargs):\n\u001b[32m     63\u001b[39m \u001b[38;5;250m    \u001b[39m\u001b[33mr\u001b[39m\u001b[33;03m\"\"\"Sends a GET request.\u001b[39;00m\n\u001b[32m     64\u001b[39m \n\u001b[32m     65\u001b[39m \u001b[33;03m    :param url: URL for the new :class:`Request` object.\u001b[39;00m\n\u001b[32m   (...)\u001b[39m\u001b[32m     70\u001b[39m \u001b[33;03m    :rtype: requests.Response\u001b[39;00m\n\u001b[32m     71\u001b[39m \u001b[33;03m    \"\"\"\u001b[39;00m\n\u001b[32m---> \u001b[39m\u001b[32m73\u001b[39m     \u001b[38;5;28;01mreturn\u001b[39;00m \u001b[43mrequest\u001b[49m\u001b[43m(\u001b[49m\u001b[33;43m\"\u001b[39;49m\u001b[33;43mget\u001b[39;49m\u001b[33;43m\"\u001b[39;49m\u001b[43m,\u001b[49m\u001b[43m \u001b[49m\u001b[43murl\u001b[49m\u001b[43m,\u001b[49m\u001b[43m \u001b[49m\u001b[43mparams\u001b[49m\u001b[43m=\u001b[49m\u001b[43mparams\u001b[49m\u001b[43m,\u001b[49m\u001b[43m \u001b[49m\u001b[43m*\u001b[49m\u001b[43m*\u001b[49m\u001b[43mkwargs\u001b[49m\u001b[43m)\u001b[49m\n",
      "\u001b[36mFile \u001b[39m\u001b[32m~/dev/diplo_ciberseguridad/.venv/lib/python3.13/site-packages/requests/api.py:59\u001b[39m, in \u001b[36mrequest\u001b[39m\u001b[34m(method, url, **kwargs)\u001b[39m\n\u001b[32m     55\u001b[39m \u001b[38;5;66;03m# By using the 'with' statement we are sure the session is closed, thus we\u001b[39;00m\n\u001b[32m     56\u001b[39m \u001b[38;5;66;03m# avoid leaving sockets open which can trigger a ResourceWarning in some\u001b[39;00m\n\u001b[32m     57\u001b[39m \u001b[38;5;66;03m# cases, and look like a memory leak in others.\u001b[39;00m\n\u001b[32m     58\u001b[39m \u001b[38;5;28;01mwith\u001b[39;00m sessions.Session() \u001b[38;5;28;01mas\u001b[39;00m session:\n\u001b[32m---> \u001b[39m\u001b[32m59\u001b[39m     \u001b[38;5;28;01mreturn\u001b[39;00m \u001b[43msession\u001b[49m\u001b[43m.\u001b[49m\u001b[43mrequest\u001b[49m\u001b[43m(\u001b[49m\u001b[43mmethod\u001b[49m\u001b[43m=\u001b[49m\u001b[43mmethod\u001b[49m\u001b[43m,\u001b[49m\u001b[43m \u001b[49m\u001b[43murl\u001b[49m\u001b[43m=\u001b[49m\u001b[43murl\u001b[49m\u001b[43m,\u001b[49m\u001b[43m \u001b[49m\u001b[43m*\u001b[49m\u001b[43m*\u001b[49m\u001b[43mkwargs\u001b[49m\u001b[43m)\u001b[49m\n",
      "\u001b[36mFile \u001b[39m\u001b[32m~/dev/diplo_ciberseguridad/.venv/lib/python3.13/site-packages/requests/sessions.py:589\u001b[39m, in \u001b[36mSession.request\u001b[39m\u001b[34m(self, method, url, params, data, headers, cookies, files, auth, timeout, allow_redirects, proxies, hooks, stream, verify, cert, json)\u001b[39m\n\u001b[32m    584\u001b[39m send_kwargs = {\n\u001b[32m    585\u001b[39m     \u001b[33m\"\u001b[39m\u001b[33mtimeout\u001b[39m\u001b[33m\"\u001b[39m: timeout,\n\u001b[32m    586\u001b[39m     \u001b[33m\"\u001b[39m\u001b[33mallow_redirects\u001b[39m\u001b[33m\"\u001b[39m: allow_redirects,\n\u001b[32m    587\u001b[39m }\n\u001b[32m    588\u001b[39m send_kwargs.update(settings)\n\u001b[32m--> \u001b[39m\u001b[32m589\u001b[39m resp = \u001b[38;5;28;43mself\u001b[39;49m\u001b[43m.\u001b[49m\u001b[43msend\u001b[49m\u001b[43m(\u001b[49m\u001b[43mprep\u001b[49m\u001b[43m,\u001b[49m\u001b[43m \u001b[49m\u001b[43m*\u001b[49m\u001b[43m*\u001b[49m\u001b[43msend_kwargs\u001b[49m\u001b[43m)\u001b[49m\n\u001b[32m    591\u001b[39m \u001b[38;5;28;01mreturn\u001b[39;00m resp\n",
      "\u001b[36mFile \u001b[39m\u001b[32m~/dev/diplo_ciberseguridad/.venv/lib/python3.13/site-packages/requests/sessions.py:703\u001b[39m, in \u001b[36mSession.send\u001b[39m\u001b[34m(self, request, **kwargs)\u001b[39m\n\u001b[32m    700\u001b[39m start = preferred_clock()\n\u001b[32m    702\u001b[39m \u001b[38;5;66;03m# Send the request\u001b[39;00m\n\u001b[32m--> \u001b[39m\u001b[32m703\u001b[39m r = \u001b[43madapter\u001b[49m\u001b[43m.\u001b[49m\u001b[43msend\u001b[49m\u001b[43m(\u001b[49m\u001b[43mrequest\u001b[49m\u001b[43m,\u001b[49m\u001b[43m \u001b[49m\u001b[43m*\u001b[49m\u001b[43m*\u001b[49m\u001b[43mkwargs\u001b[49m\u001b[43m)\u001b[49m\n\u001b[32m    705\u001b[39m \u001b[38;5;66;03m# Total elapsed time of the request (approximately)\u001b[39;00m\n\u001b[32m    706\u001b[39m elapsed = preferred_clock() - start\n",
      "\u001b[36mFile \u001b[39m\u001b[32m~/dev/diplo_ciberseguridad/.venv/lib/python3.13/site-packages/requests/adapters.py:677\u001b[39m, in \u001b[36mHTTPAdapter.send\u001b[39m\u001b[34m(self, request, stream, timeout, verify, cert, proxies)\u001b[39m\n\u001b[32m    673\u001b[39m     \u001b[38;5;28;01mif\u001b[39;00m \u001b[38;5;28misinstance\u001b[39m(e.reason, _SSLError):\n\u001b[32m    674\u001b[39m         \u001b[38;5;66;03m# This branch is for urllib3 v1.22 and later.\u001b[39;00m\n\u001b[32m    675\u001b[39m         \u001b[38;5;28;01mraise\u001b[39;00m SSLError(e, request=request)\n\u001b[32m--> \u001b[39m\u001b[32m677\u001b[39m     \u001b[38;5;28;01mraise\u001b[39;00m \u001b[38;5;167;01mConnectionError\u001b[39;00m(e, request=request)\n\u001b[32m    679\u001b[39m \u001b[38;5;28;01mexcept\u001b[39;00m ClosedPoolError \u001b[38;5;28;01mas\u001b[39;00m e:\n\u001b[32m    680\u001b[39m     \u001b[38;5;28;01mraise\u001b[39;00m \u001b[38;5;167;01mConnectionError\u001b[39;00m(e, request=request)\n",
      "\u001b[31mConnectionError\u001b[39m: HTTPSConnectionPool(host='ciberseguridad.diplomatura.unc.edu.ar', port=443): Max retries exceeded with url: /cripto/stream/alvarmaciel@gmail.com/challenge (Caused by NameResolutionError(\"<urllib3.connection.HTTPSConnection object at 0x7cfff2a0a850>: Failed to resolve 'ciberseguridad.diplomatura.unc.edu.ar' ([Errno -2] Name or service not known)\"))"
     ]
    }
   ],
   "source": [
    "raw_challenge = get_challenge(\"stream\")\n",
    "raw_challenge"
   ]
  },
  {
   "cell_type": "code",
   "execution_count": 29,
   "id": "8e3e5164-1bcb-4198-bf3a-b22e464e1cbb",
   "metadata": {},
   "outputs": [
    {
     "data": {
      "text/plain": [
       "[b'\\xe1Yn\\x1d\\xf1\\x95dT\\xe5F\\xa3\\x94\\x9a\\x9a\\x80\\xc6Q\\x1d^\\x98\\xcd\\xb5\\x991j\\xd6\\xfd\\xda\\xf3\\xc4\\x9d\\xe48^j\\xf1\\x06\\xd3c',\n",
       " b'\\x94/\\x1ai\\x8f\\xe4\\x13&\\x904\\xd4\\xe6\\xea\\xeb\\xfe\\xb7&b!\\xea\\xbb\\xc0\\xe8N\\x15\\xa0\\x8d\\xa9\\x83\\xbb\\xe2\\x9aI(\\x1f\\x80t\\xa1\\x10',\n",
       " b'\\n\\xd0\\xec\\xa2\\xf0\\xb29+\\xdb\\xb9Y\\x8b\\xf9\\xe7?h=\\x860\\xc3\\x07\\xed\\xffu\\xd2\\xda\\x9cv\\xf9\\x15\\x1b\\xb9\\xf4\\x82\\x7f5:\\x84*',\n",
       " b'\\xf6\\x17\\xf4m\\xf7\\xee\\xca\\x08\\xd6q\\xf0\\xcc\\xe6jk\\x1b\\x87\\xb1\\xd8\\x8d\\xcb\\xc7\\xb0\\x8b\\xcc{\\x16W\\xef&\\x9fl/L\\xc2\\xf4@\\x97\\x13',\n",
       " b'\\x891\\x06u\\x99\\xfd\\x0c<\\x8d.\\xcb\\xfc\\xf2\\xf2\\xe8\\xae9u6\\xf0\\xa5\\xdd\\xf1Y\\x02\\xbe\\x95\\xb2\\x9b\\xac\\xf5\\x8cP6\\x02\\x99n\\xbb\\x0b']"
      ]
     },
     "execution_count": 29,
     "metadata": {},
     "output_type": "execute_result"
    }
   ],
   "source": [
    "import base64\n",
    "textos_cifrados = raw_challenge.splitlines()\n",
    "textos_cifrados_bytes = [base64.b64decode(texto) for texto in textos_cifrados]\n",
    "textos_cifrados_bytes"
   ]
  },
  {
   "cell_type": "code",
   "execution_count": 74,
   "id": "89696dbf-4e7b-4a49-9cb9-bff5a35dbc07",
   "metadata": {},
   "outputs": [
    {
     "name": "stdout",
     "output_type": "stream",
     "text": [
      "Indice: 0\n",
      "[117, 118, 116, 116, 126, 113, 119, 114, 117, 114, 119, 114, 112, 113, 126, 113, 119, 127, 127, 114, 118, 117, 113, 127, 127, 118, 112, 115, 112, 127, 127, 126, 113, 118, 117, 113, 114, 114, 115]\n",
      "b'\\xe1Yn\\x1d\\xf1\\x95dT\\xe5F\\xa3\\x94\\x9a\\x9a\\x80\\xc6Q\\x1d^\\x98\\xcd\\xb5\\x991j\\xd6\\xfd\\xda\\xf3\\xc4\\x9d\\xe48^j\\xf1\\x06\\xd3c' or b'\\x94/\\x1ai\\x8f\\xe4\\x13&\\x904\\xd4\\xe6\\xea\\xeb\\xfe\\xb7&b!\\xea\\xbb\\xc0\\xe8N\\x15\\xa0\\x8d\\xa9\\x83\\xbb\\xe2\\x9aI(\\x1f\\x80t\\xa1\\x10'\n",
      "Indice: 0\n",
      "[235, 137, 130, 191, 1, 39, 93, 127, 62, 255, 250, 31, 99, 125, 191, 174, 108, 155, 110, 91, 202, 88, 102, 68, 184, 12, 97, 172, 10, 209, 134, 93, 204, 220, 21, 196, 60, 87, 73]\n",
      "b'\\xe1Yn\\x1d\\xf1\\x95dT\\xe5F\\xa3\\x94\\x9a\\x9a\\x80\\xc6Q\\x1d^\\x98\\xcd\\xb5\\x991j\\xd6\\xfd\\xda\\xf3\\xc4\\x9d\\xe48^j\\xf1\\x06\\xd3c' or b'\\n\\xd0\\xec\\xa2\\xf0\\xb29+\\xdb\\xb9Y\\x8b\\xf9\\xe7?h=\\x860\\xc3\\x07\\xed\\xffu\\xd2\\xda\\x9cv\\xf9\\x15\\x1b\\xb9\\xf4\\x82\\x7f5:\\x84*'\n",
      "Indice: 0\n",
      "[23, 78, 154, 112, 6, 123, 174, 92, 51, 55, 83, 88, 124, 240, 235, 221, 214, 172, 134, 21, 6, 114, 41, 186, 166, 173, 235, 141, 28, 226, 2, 136, 23, 18, 168, 5, 70, 68, 112]\n",
      "b'\\xe1Yn\\x1d\\xf1\\x95dT\\xe5F\\xa3\\x94\\x9a\\x9a\\x80\\xc6Q\\x1d^\\x98\\xcd\\xb5\\x991j\\xd6\\xfd\\xda\\xf3\\xc4\\x9d\\xe48^j\\xf1\\x06\\xd3c' or b'\\xf6\\x17\\xf4m\\xf7\\xee\\xca\\x08\\xd6q\\xf0\\xcc\\xe6jk\\x1b\\x87\\xb1\\xd8\\x8d\\xcb\\xc7\\xb0\\x8b\\xcc{\\x16W\\xef&\\x9fl/L\\xc2\\xf4@\\x97\\x13'\n",
      "Indice: 0\n",
      "[104, 104, 104, 104, 104, 104, 104, 104, 104, 104, 104, 104, 104, 104, 104, 104, 104, 104, 104, 104, 104, 104, 104, 104, 104, 104, 104, 104, 104, 104, 104, 104, 104, 104, 104, 104, 104, 104, 104]\n",
      "b'\\xe1Yn\\x1d\\xf1\\x95dT\\xe5F\\xa3\\x94\\x9a\\x9a\\x80\\xc6Q\\x1d^\\x98\\xcd\\xb5\\x991j\\xd6\\xfd\\xda\\xf3\\xc4\\x9d\\xe48^j\\xf1\\x06\\xd3c' or b'\\x891\\x06u\\x99\\xfd\\x0c<\\x8d.\\xcb\\xfc\\xf2\\xf2\\xe8\\xae9u6\\xf0\\xa5\\xdd\\xf1Y\\x02\\xbe\\x95\\xb2\\x9b\\xac\\xf5\\x8cP6\\x02\\x99n\\xbb\\x0b'\n",
      "Indice: 1\n",
      "[158, 255, 246, 203, 127, 86, 42, 13, 75, 141, 141, 109, 19, 12, 193, 223, 27, 228, 17, 41, 188, 45, 23, 59, 199, 122, 17, 223, 122, 174, 249, 35, 189, 170, 96, 181, 78, 37, 58]\n",
      "b'\\x94/\\x1ai\\x8f\\xe4\\x13&\\x904\\xd4\\xe6\\xea\\xeb\\xfe\\xb7&b!\\xea\\xbb\\xc0\\xe8N\\x15\\xa0\\x8d\\xa9\\x83\\xbb\\xe2\\x9aI(\\x1f\\x80t\\xa1\\x10' or b'\\n\\xd0\\xec\\xa2\\xf0\\xb29+\\xdb\\xb9Y\\x8b\\xf9\\xe7?h=\\x860\\xc3\\x07\\xed\\xffu\\xd2\\xda\\x9cv\\xf9\\x15\\x1b\\xb9\\xf4\\x82\\x7f5:\\x84*'\n",
      "Indice: 1\n",
      "[98, 56, 238, 4, 120, 10, 217, 46, 70, 69, 36, 42, 12, 129, 149, 172, 161, 211, 249, 103, 112, 7, 88, 197, 217, 219, 155, 254, 108, 157, 125, 246, 102, 100, 221, 116, 52, 54, 3]\n",
      "b'\\x94/\\x1ai\\x8f\\xe4\\x13&\\x904\\xd4\\xe6\\xea\\xeb\\xfe\\xb7&b!\\xea\\xbb\\xc0\\xe8N\\x15\\xa0\\x8d\\xa9\\x83\\xbb\\xe2\\x9aI(\\x1f\\x80t\\xa1\\x10' or b'\\xf6\\x17\\xf4m\\xf7\\xee\\xca\\x08\\xd6q\\xf0\\xcc\\xe6jk\\x1b\\x87\\xb1\\xd8\\x8d\\xcb\\xc7\\xb0\\x8b\\xcc{\\x16W\\xef&\\x9fl/L\\xc2\\xf4@\\x97\\x13'\n",
      "Indice: 1\n",
      "[29, 30, 28, 28, 22, 25, 31, 26, 29, 26, 31, 26, 24, 25, 22, 25, 31, 23, 23, 26, 30, 29, 25, 23, 23, 30, 24, 27, 24, 23, 23, 22, 25, 30, 29, 25, 26, 26, 27]\n",
      "b'\\x94/\\x1ai\\x8f\\xe4\\x13&\\x904\\xd4\\xe6\\xea\\xeb\\xfe\\xb7&b!\\xea\\xbb\\xc0\\xe8N\\x15\\xa0\\x8d\\xa9\\x83\\xbb\\xe2\\x9aI(\\x1f\\x80t\\xa1\\x10' or b'\\x891\\x06u\\x99\\xfd\\x0c<\\x8d.\\xcb\\xfc\\xf2\\xf2\\xe8\\xae9u6\\xf0\\xa5\\xdd\\xf1Y\\x02\\xbe\\x95\\xb2\\x9b\\xac\\xf5\\x8cP6\\x02\\x99n\\xbb\\x0b'\n",
      "Indice: 2\n",
      "[252, 199, 24, 207, 7, 92, 243, 35, 13, 200, 169, 71, 31, 141, 84, 115, 186, 55, 232, 78, 204, 42, 79, 254, 30, 161, 138, 33, 22, 51, 132, 213, 219, 206, 189, 193, 122, 19, 57]\n",
      "b'\\n\\xd0\\xec\\xa2\\xf0\\xb29+\\xdb\\xb9Y\\x8b\\xf9\\xe7?h=\\x860\\xc3\\x07\\xed\\xffu\\xd2\\xda\\x9cv\\xf9\\x15\\x1b\\xb9\\xf4\\x82\\x7f5:\\x84*' or b'\\xf6\\x17\\xf4m\\xf7\\xee\\xca\\x08\\xd6q\\xf0\\xcc\\xe6jk\\x1b\\x87\\xb1\\xd8\\x8d\\xcb\\xc7\\xb0\\x8b\\xcc{\\x16W\\xef&\\x9fl/L\\xc2\\xf4@\\x97\\x13'\n",
      "Indice: 2\n",
      "[131, 225, 234, 215, 105, 79, 53, 23, 86, 151, 146, 119, 11, 21, 215, 198, 4, 243, 6, 51, 162, 48, 14, 44, 208, 100, 9, 196, 98, 185, 238, 53, 164, 180, 125, 172, 84, 63, 33]\n",
      "b'\\n\\xd0\\xec\\xa2\\xf0\\xb29+\\xdb\\xb9Y\\x8b\\xf9\\xe7?h=\\x860\\xc3\\x07\\xed\\xffu\\xd2\\xda\\x9cv\\xf9\\x15\\x1b\\xb9\\xf4\\x82\\x7f5:\\x84*' or b'\\x891\\x06u\\x99\\xfd\\x0c<\\x8d.\\xcb\\xfc\\xf2\\xf2\\xe8\\xae9u6\\xf0\\xa5\\xdd\\xf1Y\\x02\\xbe\\x95\\xb2\\x9b\\xac\\xf5\\x8cP6\\x02\\x99n\\xbb\\x0b'\n",
      "Indice: 3\n",
      "[127, 38, 242, 24, 110, 19, 198, 52, 91, 95, 59, 48, 20, 152, 131, 181, 190, 196, 238, 125, 110, 26, 65, 210, 206, 197, 131, 229, 116, 138, 106, 224, 127, 122, 192, 109, 46, 44, 24]\n",
      "b'\\xf6\\x17\\xf4m\\xf7\\xee\\xca\\x08\\xd6q\\xf0\\xcc\\xe6jk\\x1b\\x87\\xb1\\xd8\\x8d\\xcb\\xc7\\xb0\\x8b\\xcc{\\x16W\\xef&\\x9fl/L\\xc2\\xf4@\\x97\\x13' or b'\\x891\\x06u\\x99\\xfd\\x0c<\\x8d.\\xcb\\xfc\\xf2\\xf2\\xe8\\xae9u6\\xf0\\xa5\\xdd\\xf1Y\\x02\\xbe\\x95\\xb2\\x9b\\xac\\xf5\\x8cP6\\x02\\x99n\\xbb\\x0b'\n"
     ]
    }
   ],
   "source": [
    "# Voy a hacer un xor entre cada uno de los textos a ver que sale especulo que tres de ellos tendrán el mismo keystream\n",
    "combinaciones = []\n",
    "for i, cipher_1 in enumerate(textos_cifrados_bytes):\n",
    "    for cipher_2 in textos_cifrados_bytes[i+1:]:\n",
    "        combo = [c^d for c, d in zip(cipher_1, cipher_2)]\n",
    "        combinaciones.append(combo)\n",
    "        print(f\"Indice: {i}\")\n",
    "        print(f\"{combo}\")\n",
    "        print(f\"{cipher_1} or {cipher_2}\")\n"
   ]
  },
  {
   "cell_type": "code",
   "execution_count": 52,
   "id": "1f2f4277-0755-4fdf-a2dc-8c9f777d1bf0",
   "metadata": {},
   "outputs": [
    {
     "name": "stdout",
     "output_type": "stream",
     "text": [
      "[117, 118, 116, 116, 126, 113, 119, 114, 117, 114, 119, 114, 112, 113, 126, 113, 119, 127, 127, 114, 118, 117, 113, 127, 127, 118, 112, 115, 112, 127, 127, 126, 113, 118, 117, 113, 114, 114, 115]\n",
      "[235, 137, 130, 191, 1, 39, 93, 127, 62, 255, 250, 31, 99, 125, 191, 174, 108, 155, 110, 91, 202, 88, 102, 68, 184, 12, 97, 172, 10, 209, 134, 93, 204, 220, 21, 196, 60, 87, 73]\n",
      "[23, 78, 154, 112, 6, 123, 174, 92, 51, 55, 83, 88, 124, 240, 235, 221, 214, 172, 134, 21, 6, 114, 41, 186, 166, 173, 235, 141, 28, 226, 2, 136, 23, 18, 168, 5, 70, 68, 112]\n",
      "[104, 104, 104, 104, 104, 104, 104, 104, 104, 104, 104, 104, 104, 104, 104, 104, 104, 104, 104, 104, 104, 104, 104, 104, 104, 104, 104, 104, 104, 104, 104, 104, 104, 104, 104, 104, 104, 104, 104]\n",
      "[158, 255, 246, 203, 127, 86, 42, 13, 75, 141, 141, 109, 19, 12, 193, 223, 27, 228, 17, 41, 188, 45, 23, 59, 199, 122, 17, 223, 122, 174, 249, 35, 189, 170, 96, 181, 78, 37, 58]\n",
      "[98, 56, 238, 4, 120, 10, 217, 46, 70, 69, 36, 42, 12, 129, 149, 172, 161, 211, 249, 103, 112, 7, 88, 197, 217, 219, 155, 254, 108, 157, 125, 246, 102, 100, 221, 116, 52, 54, 3]\n",
      "[29, 30, 28, 28, 22, 25, 31, 26, 29, 26, 31, 26, 24, 25, 22, 25, 31, 23, 23, 26, 30, 29, 25, 23, 23, 30, 24, 27, 24, 23, 23, 22, 25, 30, 29, 25, 26, 26, 27]\n",
      "[252, 199, 24, 207, 7, 92, 243, 35, 13, 200, 169, 71, 31, 141, 84, 115, 186, 55, 232, 78, 204, 42, 79, 254, 30, 161, 138, 33, 22, 51, 132, 213, 219, 206, 189, 193, 122, 19, 57]\n",
      "[131, 225, 234, 215, 105, 79, 53, 23, 86, 151, 146, 119, 11, 21, 215, 198, 4, 243, 6, 51, 162, 48, 14, 44, 208, 100, 9, 196, 98, 185, 238, 53, 164, 180, 125, 172, 84, 63, 33]\n",
      "[127, 38, 242, 24, 110, 19, 198, 52, 91, 95, 59, 48, 20, 152, 131, 181, 190, 196, 238, 125, 110, 26, 65, 210, 206, 197, 131, 229, 116, 138, 106, 224, 127, 122, 192, 109, 46, 44, 24]\n"
     ]
    }
   ],
   "source": [
    "for combinacion in combinaciones:\n",
    "    print(combinacion)"
   ]
  },
  {
   "cell_type": "code",
   "execution_count": 48,
   "id": "ace99eee-eba2-4a75-a157-e60a5017b06c",
   "metadata": {},
   "outputs": [
    {
     "data": {
      "text/plain": [
       "39"
      ]
     },
     "execution_count": 48,
     "metadata": {},
     "output_type": "execute_result"
    }
   ],
   "source": [
    "len(test)"
   ]
  },
  {
   "cell_type": "code",
   "execution_count": 53,
   "id": "dad09559-968b-4d9c-a1ec-3400f51085cc",
   "metadata": {},
   "outputs": [
    {
     "name": "stdout",
     "output_type": "stream",
     "text": [
      "Índice: 3, Longitud: 39\n"
     ]
    }
   ],
   "source": [
    "for idx, combinacion in enumerate(combinaciones):\n",
    "    if all(x == 104 for x in combinacion):\n",
    "        print(f\"Índice: {idx}, Longitud: {len(combinacion)}\")"
   ]
  },
  {
   "cell_type": "code",
   "execution_count": 73,
   "id": "332bfa5c-e1d1-49b4-8310-3d834fec4c3e",
   "metadata": {},
   "outputs": [
    {
     "name": "stdout",
     "output_type": "stream",
     "text": [
      "[104, 104, 104, 104, 104, 104, 104, 104, 104, 104, 104, 104, 104, 104, 104, 104, 104, 104, 104, 104, 104, 104, 104, 104, 104, 104, 104, 104, 104, 104, 104, 104, 104, 104, 104, 104, 104, 104, 104]\n",
      "[160, 24, 47, 92, 176, 212, 37, 21, 164, 7, 226, 213, 219, 219, 193, 135, 16, 92, 31, 217, 140, 244, 216, 112, 43, 151, 188, 155, 178, 133, 220, 165, 121, 31, 43, 176, 71, 146, 34]\n"
     ]
    }
   ],
   "source": [
    "cipher_0 = textos_cifrados_bytes[0]\n",
    "cipher_4 = textos_cifrados_bytes[4]\n",
    "\n",
    "# XOR de estos dos textos: debería dar todo 104\n",
    "xor_04 = [a ^ b for a, b in zip(cipher_0, cipher_4)]\n",
    "print(xor_04)\n",
    "\n",
    "keystream_guess = [c ^ 65 for c in cipher_0]\n",
    "print(keystream_guess)"
   ]
  },
  {
   "cell_type": "code",
   "execution_count": 58,
   "id": "441a801b-a89e-4f9e-bef6-dce8e726a4c1",
   "metadata": {},
   "outputs": [
    {
     "name": "stdout",
     "output_type": "stream",
     "text": [
      ")))))))))))))))))))))))))))))))))))))))\n"
     ]
    }
   ],
   "source": [
    "plaintext_guess = [c ^ k for c, k in zip(cipher_4, keystream_guess)]\n",
    "\n",
    "# Mostrar los caracteres\n",
    "print(\"\".join(chr(c) for c in plaintext_guess))"
   ]
  },
  {
   "cell_type": "code",
   "execution_count": 59,
   "id": "16dc3900-3383-4755-85eb-6d3c2d9eda47",
   "metadata": {},
   "outputs": [
    {
     "name": "stdout",
     "output_type": "stream",
     "text": [
      "Plaintext: )))))))))))))))))))))))))))))))))))))))\n"
     ]
    }
   ],
   "source": [
    "keystream_test = [c ^ 65 for c in textos_cifrados_bytes[4]]\n",
    "plaintext_test = [c ^ k for c, k in zip(textos_cifrados_bytes[0], keystream_test)]\n",
    "\n",
    "print(\"Plaintext:\", \"\".join(chr(c) for c in plaintext_test))"
   ]
  },
  {
   "cell_type": "code",
   "execution_count": 60,
   "id": "447a5215-719c-46e1-b843-a22c16dd30e0",
   "metadata": {},
   "outputs": [
    {
     "name": "stdout",
     "output_type": "stream",
     "text": [
      "Texto 1 probablemente usa el mismo keystream:\n",
      "4755?063436310?06>>3740>>7121>>?0740332\n",
      "Texto 2 contiene caracteres no imprimibles.\n",
      "Texto 3 contiene caracteres no imprimibles.\n"
     ]
    }
   ],
   "source": [
    "import string\n",
    "\n",
    "ascii_printables = set(range(33, 127))\n",
    "\n",
    "for i in [1, 2, 3]:\n",
    "    cipher = textos_cifrados_bytes[i]\n",
    "    # Aplicar el keystream solo hasta su longitud\n",
    "    decrypted = [c ^ k for c, k in zip(cipher, keystream_guess)]\n",
    "    \n",
    "    # Verificamos si todos los caracteres son imprimibles\n",
    "    if all(c in ascii_printables for c in decrypted):\n",
    "        print(f\"Texto {i} probablemente usa el mismo keystream:\")\n",
    "        print(\"\".join(chr(c) for c in decrypted))\n",
    "    else:\n",
    "        print(f\"Texto {i} contiene caracteres no imprimibles.\")"
   ]
  },
  {
   "cell_type": "code",
   "execution_count": 70,
   "id": "00daf41c-484b-46fe-bafd-31d61a963874",
   "metadata": {},
   "outputs": [
    {
     "name": "stdout",
     "output_type": "stream",
     "text": [
      "Texto 1: \\_]]WX^[\\[^[YXWX^VV[_\\XVV_YZYVVWX_\\X[[Z\n",
      "Texto 2: ....(.tV...6JT..E.Gr.qOm.%H.#..t..<..~`\n",
      "Texto 3: >g.Y/R.u..zqU......</[......5.+.>;.,omY\n"
     ]
    }
   ],
   "source": [
    "for i in [1, 2, 3]:\n",
    "    cipher = textos_cifrados_bytes[i]\n",
    "    decrypted = [c ^ k for c, k in zip(cipher, keystream)]\n",
    "    chars = \"\".join(chr(c) if 33 <= c <= 126 else \".\" for c in decrypted)\n",
    "    print(f\"Texto {i}: {chars}\")"
   ]
  },
  {
   "cell_type": "code",
   "execution_count": 72,
   "id": "ac825848-b97f-4b4a-9d25-7b08847e0e40",
   "metadata": {},
   "outputs": [
    {
     "name": "stdout",
     "output_type": "stream",
     "text": [
      "Texto 1: \\_]]WX^[\\[^[YXWX^VV[_\\XVV_YZYVVWX_\\X[[Z\n",
      "Texto 2: ....(.tV...6JT..E.Gr.qOm.%H.#..t..<..~`\n",
      "Texto 3: >g.Y/R.u..zqU......</[......5.+.>;.,omY\n"
     ]
    }
   ],
   "source": [
    "# Alternativa: asumir cipher_0 era ')', entonces plaintext = 41\n",
    "keystream_alt = [c ^ 41 for c in textos_cifrados_bytes[0]]\n",
    "\n",
    "# Ver descifrados nuevos con keystream alternativo\n",
    "for i in [1, 2, 3]:\n",
    "    cipher = textos_cifrados_bytes[i]\n",
    "    decrypted = [c ^ k for c, k in zip(cipher, keystream_alt)]\n",
    "    chars = \"\".join(chr(c) if 33 <= c <= 126 else \".\" for c in decrypted)\n",
    "    print(f\"Texto {i}: {chars}\")\n"
   ]
  },
  {
   "cell_type": "code",
   "execution_count": 68,
   "id": "0e90868f-cac1-4273-8c89-687cc17e5702",
   "metadata": {},
   "outputs": [
    {
     "name": "stdout",
     "output_type": "stream",
     "text": [
      "Keystream lista de int: [200, 112, 71, 52, 216, 188, 77, 125, 204, 111, 138, 189, 179, 179, 169, 239, 120, 52, 119, 177, 228, 156, 176, 24, 67, 255, 212, 243, 218, 237, 180, 205, 17, 119, 67, 216, 47, 250, 74]\n",
      "Keystream bytes: b'\\xc8pG4\\xd8\\xbcM}\\xcco\\x8a\\xbd\\xb3\\xb3\\xa9\\xefx4w\\xb1\\xe4\\x9c\\xb0\\x18C\\xff\\xd4\\xf3\\xda\\xed\\xb4\\xcd\\x11wC\\xd8/\\xfaJ'\n",
      "Keystream (b64): yHBHNNi8TX3Mb4q9s7Op73g0d7HknLAYQ//U89rttM0Rd0PYL/pK\n"
     ]
    }
   ],
   "source": [
    "keystream = [c ^ 65 for c in textos_cifrados_bytes[4]]  # 'A' = 65\n",
    "\n",
    "# También lo podés guardar como bytes si querés exportarlo\n",
    "keystream_bytes = bytes(keystream)\n",
    "keystream_base64 = base64.b64encode(keystream_bytes).decode()\n",
    "# Mostrar por si lo querés ver\n",
    "print(f\"Keystream lista de int: {keystream}\")\n",
    "print(f\"Keystream bytes: {keystream_bytes}\")\n",
    "print(f\"Keystream (b64): {keystream_base64}\") "
   ]
  },
  {
   "cell_type": "code",
   "execution_count": 69,
   "id": "2fcea9d0-104f-4eb8-8bff-2f1589699e4f",
   "metadata": {},
   "outputs": [
    {
     "name": "stdout",
     "output_type": "stream",
     "text": [
      "Status code: 200\n",
      "Lo siento, siga participando.\n",
      "\n"
     ]
    }
   ],
   "source": [
    "response = requests.post(\n",
    "    f\"{SERVER}/stream/{EMAIL}/answer\",\n",
    "    files = { \"keystream\": keystream_base64}\n",
    ")\n",
    "print(f\"Status code: {response.status_code}\")\n",
    "print(response.text)"
   ]
  },
  {
   "cell_type": "code",
   "execution_count": null,
   "id": "1ecd4898-6798-4e8b-9fe4-e8a257e3a686",
   "metadata": {},
   "outputs": [],
   "source": []
  }
 ],
 "metadata": {
  "kernelspec": {
   "display_name": "Python 3 (ipykernel)",
   "language": "python",
   "name": "python3"
  },
  "language_info": {
   "codemirror_mode": {
    "name": "ipython",
    "version": 3
   },
   "file_extension": ".py",
   "mimetype": "text/x-python",
   "name": "python",
   "nbconvert_exporter": "python",
   "pygments_lexer": "ipython3",
   "version": "3.13.0"
  }
 },
 "nbformat": 4,
 "nbformat_minor": 5
}
