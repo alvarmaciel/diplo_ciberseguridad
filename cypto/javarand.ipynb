{
 "cells": [
  {
   "cell_type": "code",
   "execution_count": 26,
   "id": "e5733ac4-9e27-4842-bf36-272ae266d851",
   "metadata": {},
   "outputs": [
    {
     "data": {
      "text/plain": [
       "[-1210225942,\n",
       " -1908238811,\n",
       " -106137654,\n",
       " -1281935452,\n",
       " -235120565,\n",
       " -214157664,\n",
       " 642760798,\n",
       " -803876832,\n",
       " -424719337,\n",
       " -67890154]"
      ]
     },
     "execution_count": 26,
     "metadata": {},
     "output_type": "execute_result"
    }
   ],
   "source": [
    "# Primero me voy a hacer el random\n",
    "# random.setSeed(1234567890)\n",
    "MASK = (1 << 48) - 1\n",
    "MULTIPLIER =  0x5DEECE66D \n",
    "INCREMENT = 0xB \n",
    "\n",
    "\n",
    "def set_seed(init_seed: int) -> int:    \n",
    "    return (init_seed ^ MULTIPLIER) & MASK\n",
    "\n",
    "def next_int(seed:int)->int:\n",
    "    nuevo_seed = (seed * MULTIPLIER + INCREMENT) & MASK\n",
    "    value = nuevo_seed >> (48 - 32)\n",
    "    if value >= (1 << 31):\n",
    "        value -= (1 << 32)\n",
    "    return value, nuevo_seed\n",
    "\n",
    "randoms = []\n",
    "seed = set_seed(1234567890)\n",
    "\n",
    "for i in range(10):\n",
    "    num, seed = next_int(seed) \n",
    "    randoms.append(num)\n",
    "\n",
    "randoms"
   ]
  },
  {
   "cell_type": "code",
   "execution_count": 27,
   "id": "a40f98c4-ea54-4462-8a9f-0f30a26217e3",
   "metadata": {},
   "outputs": [],
   "source": [
    "# Ahora hay que hacer la inversa a partir de dos numeros consecutivos para calcular el 3ro"
   ]
  },
  {
   "cell_type": "code",
   "execution_count": null,
   "id": "2e89a9ff-e9cb-45a5-90b0-69138753e190",
   "metadata": {},
   "outputs": [],
   "source": [
    "nro_1 = -1210225942\n",
    "nro_2 = -1908238811"
   ]
  }
 ],
 "metadata": {
  "kernelspec": {
   "display_name": "Python 3 (ipykernel)",
   "language": "python",
   "name": "python3"
  },
  "language_info": {
   "codemirror_mode": {
    "name": "ipython",
    "version": 3
   },
   "file_extension": ".py",
   "mimetype": "text/x-python",
   "name": "python",
   "nbconvert_exporter": "python",
   "pygments_lexer": "ipython3",
   "version": "3.12.7"
  }
 },
 "nbformat": 4,
 "nbformat_minor": 5
}
