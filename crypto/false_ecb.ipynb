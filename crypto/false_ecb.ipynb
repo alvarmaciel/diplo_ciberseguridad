{
 "cells": [
  {
   "cell_type": "code",
   "execution_count": 2,
   "id": "fe339646-83b3-4662-a3a8-4e4a2cabbaa6",
   "metadata": {},
   "outputs": [],
   "source": [
    "# Calcular cuantos bytes puden tener las partes\n",
    "import requests\n",
    "import base64\n",
    "import math\n",
    "SERVER = \"https://ciberseguridad.diplomatura.unc.edu.ar/cripto\"\n",
    "EMAIL = \"alvarmaciel@gmail.com\"\n",
    "CHALLENGE = 'ecb-forge'\n",
    "EMAIL_DOMAIN = \"x.com\" \n",
    "BLOCK = 16\n",
    "def get_challenge(email_a_registrar:str) -> str:\n",
    "    response =  requests.get(f\"{SERVER}/{CHALLENGE}/{EMAIL}/register?email={email_a_registrar}\")\n",
    "    encripted_response = requests.get(f\"{SERVER}/{CHALLENGE}/{EMAIL}/register?email={email_a_registrar}&encrypted=true\")\n",
    "    return response, encripted_response"
   ]
  },
  {
   "cell_type": "code",
   "execution_count": 3,
   "id": "3dfc178e-30dd-4f6c-8790-02f0cdccb5f8",
   "metadata": {},
   "outputs": [],
   "source": [
    "def calculate_bytes_and_blocks(text: bytes):\n",
    "    print(\"\\n--- Bloques a encriptar ---\")\n",
    "    for i in range(0, len(text), BLOCK):\n",
    "        block=text[i:i+BLOCK]\n",
    "        print(f\"Bloque {i//BLOCK}: {block} ({len(block)} bytes)\")\n",
    "\n",
    "def split_blocks(ciphertext: bytes, block_size=BLOCK):\n",
    "    decoded_ciphertext = base64.b64decode(ciphertext)\n",
    "    return [decoded_ciphertext[i:i+block_size] for i in range(0, len(decoded_ciphertext), block_size)]"
   ]
  },
  {
   "cell_type": "code",
   "execution_count": 4,
   "id": "df97d665-96c8-46c1-a6e8-6801431e95e9",
   "metadata": {},
   "outputs": [
    {
     "name": "stdout",
     "output_type": "stream",
     "text": [
      "b'user=01234@algo.com&id=998&role=user'\n",
      "b'Eukx4pBBoJ1T3pnL5QiLO7H8loVyB78qM7L4e6nuwAyOYVW31RMBI+L1NXm4TiIR'\n",
      "\n",
      "--- Bloques a encriptar ---\n",
      "Bloque 0: b'user=01234@algo.' (16 bytes)\n",
      "Bloque 1: b'com&id=998&role=' (16 bytes)\n",
      "Bloque 2: b'user' (4 bytes)\n",
      "[b'\\x12\\xe91\\xe2\\x90A\\xa0\\x9dS\\xde\\x99\\xcb\\xe5\\x08\\x8b;', b'\\xb1\\xfc\\x96\\x85r\\x07\\xbf*3\\xb2\\xf8{\\xa9\\xee\\xc0\\x0c', b'\\x8eaU\\xb7\\xd5\\x13\\x01#\\xe2\\xf55y\\xb8N\"\\x11']\n",
      "Bloques de perfil normal: 3 bloques\n",
      "Bloque 0: b'\\x12\\xe91\\xe2\\x90A\\xa0\\x9dS\\xde\\x99\\xcb\\xe5\\x08\\x8b;'\n",
      "Bloque 1: b'\\xb1\\xfc\\x96\\x85r\\x07\\xbf*3\\xb2\\xf8{\\xa9\\xee\\xc0\\x0c'\n",
      "Bloque 2: b'\\x8eaU\\xb7\\xd5\\x13\\x01#\\xe2\\xf55y\\xb8N\"\\x11'\n"
     ]
    }
   ],
   "source": [
    "response, encrypted_response = get_challenge(\"01234@algo.com\")\n",
    "print(response.content)\n",
    "print(encrypted_response.content)\n",
    "\n",
    "calculate_bytes_and_blocks(response.content)\n",
    "\n",
    "blocks1 = split_blocks(encrypted_response.content)\n",
    "\n",
    "print(blocks1)\n",
    "\n",
    "print(f\"Bloques de perfil normal: {len(blocks1)} bloques\")\n",
    "\n",
    "for i, b in enumerate(blocks1):\n",
    "    print(f\"Bloque {i}: {b}\")\n"
   ]
  },
  {
   "cell_type": "code",
   "execution_count": 5,
   "id": "b1462857-bb5d-4881-a68b-7808714264aa",
   "metadata": {},
   "outputs": [
    {
     "name": "stdout",
     "output_type": "stream",
     "text": [
      "b'user=AAAAAAAAaaaaaaaaaaaaaaaaaaaaaaaaaaaaaaaaaaaaAA@admin&id=160&role=user'\n",
      "b'RdvkeNlszTVE0MFiaB/YrsH5bFbF293kA4UKrNNXvnnB+WxWxdvd5AOFCqzTV755R72yPm/k5zbrccPocrE3uAjZdznnNsY5uXo69wNTPXQ='\n",
      "\n",
      "--- Bloques a encriptar ---\n",
      "Bloque 0: b'user=AAAAAAAAaaa' (16 bytes)\n",
      "Bloque 1: b'aaaaaaaaaaaaaaaa' (16 bytes)\n",
      "Bloque 2: b'aaaaaaaaaaaaaaaa' (16 bytes)\n",
      "Bloque 3: b'aAA@admin&id=160' (16 bytes)\n",
      "Bloque 4: b'&role=user' (10 bytes)\n"
     ]
    },
    {
     "data": {
      "text/plain": [
       "[b'E\\xdb\\xe4x\\xd9l\\xcd5D\\xd0\\xc1bh\\x1f\\xd8\\xae',\n",
       " b'\\xc1\\xf9lV\\xc5\\xdb\\xdd\\xe4\\x03\\x85\\n\\xac\\xd3W\\xbey',\n",
       " b'\\xc1\\xf9lV\\xc5\\xdb\\xdd\\xe4\\x03\\x85\\n\\xac\\xd3W\\xbey',\n",
       " b'G\\xbd\\xb2>o\\xe4\\xe76\\xebq\\xc3\\xe8r\\xb17\\xb8',\n",
       " b'\\x08\\xd9w9\\xe76\\xc69\\xb9z:\\xf7\\x03S=t']"
      ]
     },
     "execution_count": 5,
     "metadata": {},
     "output_type": "execute_result"
    }
   ],
   "source": [
    "response_2, encrypted_response_2 = get_challenge(\"AAAAAAAAaaaaaaaaaaaaaaaaaaaaaaaaaaaaaaaaaaaaAA@admin\") # AAAAAAAAaaaaaaaaaaaaaaaaaaaaaaaaaaaaaaaaaaaaAA\n",
    "print(response_2.content)\n",
    "print(encrypted_response_2.content)\n",
    "calculate_bytes_and_blocks(response_2.content)\n",
    "blocks2 = split_blocks(encrypted_response_2.content)\n",
    "blocks2"
   ]
  },
  {
   "cell_type": "code",
   "execution_count": 6,
   "id": "ee68dc8a-4ca1-4d9e-bbbe-7d1d2dfc4d38",
   "metadata": {},
   "outputs": [
    {
     "name": "stdout",
     "output_type": "stream",
     "text": [
      "b'user=AAAAAAAAAA@admin&id=846&role=user'\n",
      "b'SxDwxAkxiMh20km+xDV0DF/i1E6K4Drak4r0JqUnfoziLXgKEu62MzCbAnIc5IhS'\n",
      "\n",
      "--- Bloques a encriptar ---\n",
      "Bloque 0: b'user=AAAAAAAAAA@' (16 bytes)\n",
      "Bloque 1: b'admin&id=846&rol' (16 bytes)\n",
      "Bloque 2: b'e=user' (6 bytes)\n"
     ]
    },
    {
     "data": {
      "text/plain": [
       "[b'K\\x10\\xf0\\xc4\\t1\\x88\\xc8v\\xd2I\\xbe\\xc45t\\x0c',\n",
       " b\"_\\xe2\\xd4N\\x8a\\xe0:\\xda\\x93\\x8a\\xf4&\\xa5'~\\x8c\",\n",
       " b'\\xe2-x\\n\\x12\\xee\\xb630\\x9b\\x02r\\x1c\\xe4\\x88R']"
      ]
     },
     "execution_count": 6,
     "metadata": {},
     "output_type": "execute_result"
    }
   ],
   "source": [
    "response_3, encrypted_response_3 = get_challenge(\"AAAAAAAAAA@admin\")\n",
    "print(response_3.content)\n",
    "print(encrypted_response_3.content)\n",
    "calculate_bytes_and_blocks(response_3.content)\n",
    "blocks3 = split_blocks(encrypted_response_3.content)\n",
    "blocks3"
   ]
  },
  {
   "cell_type": "code",
   "execution_count": 7,
   "id": "5a1fd74e-1131-42f2-b0f3-b2bcccd43024",
   "metadata": {},
   "outputs": [
    {
     "name": "stdout",
     "output_type": "stream",
     "text": [
      "\n",
      "--- Bloque 2 encodeado---\n",
      "b'admin'\n"
     ]
    }
   ],
   "source": [
    "print(\"\\n--- Bloque 2 encodeado---\")\n",
    "test = b'user=adminXXXX@a'\n",
    "print(test[5:10])\n"
   ]
  },
  {
   "cell_type": "code",
   "execution_count": 8,
   "id": "5986f253-2511-4862-910c-6766ff2b1a96",
   "metadata": {},
   "outputs": [
    {
     "name": "stdout",
     "output_type": "stream",
     "text": [
      "b'l\\xcd5D\\xd0\\x0b\\x0b\\x0b\\x0b\\x0b\\x0b\\x0b\\x0b\\x0b\\x0b\\x0b'\n",
      "c1f96c56c5dbdde403850aacd357be79\n",
      "dbdde403850aacd357be79\n"
     ]
    },
    {
     "data": {
      "text/plain": [
       "'Eukx4pBBoJ1T3pnL5QiLO7H8loVyB78qM7L4e6nuwAxf4tROiuA62pOK9CalJ36M4i14ChLutjMwmwJyHOSIUg=='"
      ]
     },
     "execution_count": 8,
     "metadata": {},
     "output_type": "execute_result"
    }
   ],
   "source": [
    "admin_block = blocks2[0][5:10] + bytes([0x0b] * 11) #blocks2[2][-11:]\n",
    "print(admin_block)\n",
    "print(blocks2[2].hex())\n",
    "print(blocks2[2][-11:].hex())\n",
    "forged = blocks1[0]+blocks1[1]+blocks3[1]+blocks3[2] \n",
    "forged_b64 = base64.b64encode(forged).decode()\n",
    "forged_b64"
   ]
  },
  {
   "cell_type": "code",
   "execution_count": 25,
   "id": "0d3b5a20-b9df-43d7-b8b7-bd632cbd1a1f",
   "metadata": {},
   "outputs": [
    {
     "name": "stdout",
     "output_type": "stream",
     "text": [
      "Status code: 200\n",
      "¡Ganaste!\n",
      "\n"
     ]
    }
   ],
   "source": [
    "challenge_response = requests.post(\n",
    "    f\"{SERVER}/{CHALLENGE}/{EMAIL}/answer\",\n",
    "    files = { \"message\":forged_b64}\n",
    ")\n",
    "print(f\"Status code: {challenge_response.status_code}\")\n",
    "print(challenge_response.text)"
   ]
  },
  {
   "cell_type": "code",
   "execution_count": null,
   "id": "50e04bcd-336c-44ef-8dd1-be58f9eb46aa",
   "metadata": {},
   "outputs": [],
   "source": []
  }
 ],
 "metadata": {
  "kernelspec": {
   "display_name": "Python 3 (ipykernel)",
   "language": "python",
   "name": "python3"
  },
  "language_info": {
   "codemirror_mode": {
    "name": "ipython",
    "version": 3
   },
   "file_extension": ".py",
   "mimetype": "text/x-python",
   "name": "python",
   "nbconvert_exporter": "python",
   "pygments_lexer": "ipython3",
   "version": "3.13.7"
  }
 },
 "nbformat": 4,
 "nbformat_minor": 5
}
