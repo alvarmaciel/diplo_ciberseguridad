{
 "cells": [
  {
   "cell_type": "markdown",
   "id": "1f40a81e-0dd0-47f1-8c26-ab8cd45c5eb3",
   "metadata": {},
   "source": [
    "# md5cypto\n",
    "Voy a reescribir el algoritomo en python para poder obtener un mensaje de prueba donde conzca todas las variables.\n",
    "\n",
    "## Librerias y recursos que me sirvieron\n",
    "- https://docs.python.org/3/library/hashlib.html\n",
    "- https://docs.python.org/3/library/base64.html#base64.b64decode"
   ]
  },
  {
   "cell_type": "code",
   "execution_count": 59,
   "id": "d7849f3b-cfa8-4e94-aae0-4c7b8bce6fe6",
   "metadata": {},
   "outputs": [],
   "source": [
    "import hashlib\n",
    "import base64\n",
    "\n",
    "# El plan es generar un texto encodeado con una version de la librería y decodearlo\n",
    "plaintext = b\"Hola tu@email.com\"\n",
    "key = b\"12345\"\n",
    "# No se si hacerlo en bytes o en hex, creo que es lo mesmo. Lo hago en ambos para asegurarme\n"
   ]
  },
  {
   "cell_type": "code",
   "execution_count": 60,
   "id": "9a3d947d-3398-48b6-a85c-c1dd4b2b1157",
   "metadata": {},
   "outputs": [],
   "source": [
    "def encrypt(plaintext:bytes) -> bytearray: #Saco la key para pasarla en un segundo momento\n",
    "    encrypt_key_plain = b\"1234\" # Por ahora uso un valor definido para probar. EL nombre es horrible\n",
    "    encrypt_key_hex = hashlib.md5(encrypt_key_plain).hexdigest()\n",
    "    primer_pasada=bytearray()\n",
    "    for i, c in enumerate(plaintext): # uso enumerate para generar el contador\n",
    "        counter = encrypt_key_hex[i % len(encrypt_key_hex)] # contador vuelve a 0 con el largo de la clave\n",
    "        primer_pasada.append(ord(counter))\n",
    "        primer_pasada.append(ord(counter) ^ c)\n",
    "    return primer_pasada\n"
   ]
  },
  {
   "cell_type": "code",
   "execution_count": 61,
   "id": "5ad3a85e-567e-477a-ae5c-b0cc132d1b8e",
   "metadata": {},
   "outputs": [],
   "source": [
    "# segunda pasada, acá key es la clave externa\n",
    "def key_ed(primer_pasada: bytes, key: bytes) -> bytearray: \n",
    "    key_md5 = hashlib.md5(key).hexdigest()\n",
    "    encrypted = bytearray()\n",
    "\n",
    "    for i, b in enumerate(primer_pasada):\n",
    "        encrypted.append(b ^ ord(key_md5[i % len(key_md5)]))\n",
    "    return base64.b64encode(encrypted).decode()\n"
   ]
  },
  {
   "cell_type": "code",
   "execution_count": 62,
   "id": "9293828f-df78-41f5-b5bf-863c644a3d63",
   "metadata": {},
   "outputs": [
    {
     "name": "stdout",
     "output_type": "stream",
     "text": [
      "bytearray(b'8p1^d\\x08c\\x029\\x19b\\x16d\\x11b\"5P2_d\\x050Y4XdJc\\x002]0]')\n"
     ]
    },
    {
     "data": {
      "text/plain": [
       "'3870315e6408630239196216641162223550325f640530593458644a6300325d305d'"
      ]
     },
     "execution_count": 62,
     "metadata": {},
     "output_type": "execute_result"
    }
   ],
   "source": [
    "primer_pasada = encrypt(plaintext)\n",
    "# Chequeo que sea el doble\n",
    "assert len(primer_pasada) == len(plaintext)*2\n",
    "print(primer_pasada)\n",
    "bytearray.hex(primer_pasada)"
   ]
  },
  {
   "cell_type": "code",
   "execution_count": 63,
   "id": "5aff0879-765b-4e17-a495-25dd6815dcb1",
   "metadata": {},
   "outputs": [
    {
     "name": "stdout",
     "output_type": "stream",
     "text": [
      "0042063d076a53675c785a77532154410133016b053406610d6902725765053f086f\n",
      "b'\\x00B\\x06=\\x07jSg\\\\xZwS!TA\\x013\\x01k\\x054\\x06a\\ri\\x02rWe\\x05?\\x08o'\n",
      "AEIGPQdqU2dceFp3UyFUQQEzAWsFNAZhDWkCcldlBT8Ibw==\n"
     ]
    }
   ],
   "source": [
    "# segunda pasada el xor con la clave externa\n",
    "encrypted_message = key_ed(primer_pasada, key)\n",
    "print(bytes.hex(base64.b64decode(encrypted_message)))\n",
    "print(base64.b64decode(encrypted_message))\n",
    "print(encrypted_message)"
   ]
  },
  {
   "cell_type": "code",
   "execution_count": 66,
   "id": "5ffcbaab-dcdb-4f02-a713-2a63e0103fd6",
   "metadata": {},
   "outputs": [
    {
     "name": "stdout",
     "output_type": "stream",
     "text": [
      "17\n",
      "423b6d34242d7215326a31676470323a67\n"
     ]
    }
   ],
   "source": [
    "# Remove internal encrypted_key\n",
    "# byte_message = encrypted_message.encode()\n",
    "b64_decoded_message = base64.b64decode(encrypted_message)\n",
    "pares = b64_decoded_message[0::2]\n",
    "impares = b64_decoded_message[1::2]\n",
    "remove_internal_key = bytearray(par ^ impar for par, impar in zip(pares, impares))\n",
    "print(len(remove_internal_key)) # Tiene que ser 17\n",
    "print(bytearray.hex(remove_internal_key))"
   ]
  },
  {
   "cell_type": "code",
   "execution_count": 67,
   "id": "22860423-5ad4-44ab-a906-09c0c0da2b75",
   "metadata": {},
   "outputs": [],
   "source": [
    "\n",
    "key_candidates = set(range(48, 58)) | set(range(97, 103))\n",
    "texto_conocido= \"tu@email.com\"\n",
    "largo = len(texto_conocido)\n",
    "primer_letra = texto_conocido[0]\n"
   ]
  },
  {
   "cell_type": "code",
   "execution_count": null,
   "id": "12efa2b7-51f6-4b91-bf8c-401b4e2c3803",
   "metadata": {},
   "outputs": [],
   "source": []
  }
 ],
 "metadata": {
  "kernelspec": {
   "display_name": "Python 3 (ipykernel)",
   "language": "python",
   "name": "python3"
  },
  "language_info": {
   "codemirror_mode": {
    "name": "ipython",
    "version": 3
   },
   "file_extension": ".py",
   "mimetype": "text/x-python",
   "name": "python",
   "nbconvert_exporter": "python",
   "pygments_lexer": "ipython3",
   "version": "3.12.7"
  }
 },
 "nbformat": 4,
 "nbformat_minor": 5
}
