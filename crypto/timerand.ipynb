{
 "cells": [
  {
   "cell_type": "markdown",
   "id": "b41e7aa6-2118-4538-8bea-9bf3c5d29994",
   "metadata": {},
   "source": [
    "# Challenge: timerand"
   ]
  },
  {
   "cell_type": "code",
   "execution_count": 1,
   "id": "36210960-131f-4730-9460-b0dfba124119",
   "metadata": {},
   "outputs": [],
   "source": [
    "import requests\n",
    "from datetime import datetime, timezone\n",
    "import base64\n",
    "from hashlib import md5\n",
    "from cryptography.hazmat.primitives.ciphers import Cipher, algorithms, modes\n",
    "from cryptography.hazmat.primitives.asymmetric import rsa, padding as asymmetric_padding\n",
    "from cryptography.hazmat.primitives import serialization, hashes, padding as symmetric_padding\n",
    "from cryptography.hazmat.backends import default_backend  \n",
    "def get_challnge(challenge:str) -> str:\n",
    "    server = \"https://ciberseguridad.diplomatura.unc.edu.ar/cripto\"\n",
    "    email = \"alvarmaciel@gmail.com\"\n",
    "    response =  requests.get(f\"{server}/{challenge}/{email}/challenge\")\n",
    "    return response.text\n",
    "    \n",
    "def parse_challenge(raw: str):\n",
    "    lines = raw.splitlines()\n",
    "    # encontrar la línea en blanco que separa encabezado y cuerpo\n",
    "    sep = lines.index('')\n",
    "    headers = lines[:sep]\n",
    "    body_lines = lines[sep+1:]\n",
    "    # unir todas las líneas del cuerpo\n",
    "    b64_concat = ''.join(body_lines)\n",
    "    blob = base64.b64decode(b64_concat)\n",
    "    return headers, blob"
   ]
  },
  {
   "cell_type": "code",
   "execution_count": 2,
   "id": "17c6fa83-b122-45ef-93ca-4dc8d24c04a1",
   "metadata": {},
   "outputs": [
    {
     "data": {
      "text/plain": [
       "'From: User <user@example.com>\\nDate: Fri Jan 14 19:45:58 UTC 2022\\nTo: alvarmaciel@gmail.com\\n\\nJKjGe49INxspqtMMtm6hesPCxag4ljpDzLhlmyagYkEpcuzz7cSdMYMaigA1Rqkwqk+KtVxODwNV8vGM2tUsWgTJ4xA4RFrx0Ww2o/o27ocLKUwfQiVPENw198AI25iAljOAmOioNJd/IRmzLzEW88RknUjRF4udo+0YlNeOtwGWuUR4iMj7+otL1XnymNFMxkXzq+PeKloTS9SbmzKDVQr8HG9BjE5Fd/emVJQ+y9K/qDU637IfIhOGjeKX/k03f9xMt00UWTi852J2M+aF1xyOAmKTADSzlEDU1jWfD1Czy8TFD0VJnnImtSjOpThocCjwnJTKxQhjFaiPJjqPAb/jSNhpkWNFebPUrXeRDOAIKYGegZfekvITvyU0RFziAJEVUv1LmUEOyoKzlFCv1OYEAJNn70qNzYvhBHE1L+IrubFzCl4o7xeiJlN2sIVdCaaGENfV3gMgbGPtAtlbOczHWN9Gz1Sq4oFBdNWgF58Z5Q8vkoMKG5o0WQJqduohZG5KrDp9M3jjSbvH8ZhoBg==\\n'"
      ]
     },
     "execution_count": 2,
     "metadata": {},
     "output_type": "execute_result"
    }
   ],
   "source": [
    "raw_challenge = get_challnge(\"timerand\")\n",
    "raw_challenge"
   ]
  },
  {
   "cell_type": "code",
   "execution_count": 3,
   "id": "0fd6af80-c66d-48bd-bb17-e2e41602b497",
   "metadata": {},
   "outputs": [
    {
     "name": "stdout",
     "output_type": "stream",
     "text": [
      "['From: User <user@example.com>', 'Date: Fri Jan 14 19:45:58 UTC 2022', 'To: alvarmaciel@gmail.com']\n",
      "b'$\\xa8\\xc6{\\x8fH7\\x1b)\\xaa\\xd3\\x0c\\xb6n\\xa1z\\xc3\\xc2\\xc5\\xa88\\x96:C\\xcc\\xb8e\\x9b&\\xa0bA)r\\xec\\xf3\\xed\\xc4\\x9d1\\x83\\x1a\\x8a\\x005F\\xa90\\xaaO\\x8a\\xb5\\\\N\\x0f\\x03U\\xf2\\xf1\\x8c\\xda\\xd5,Z\\x04\\xc9\\xe3\\x108DZ\\xf1\\xd1l6\\xa3\\xfa6\\xee\\x87\\x0b)L\\x1fB%O\\x10\\xdc5\\xf7\\xc0\\x08\\xdb\\x98\\x80\\x963\\x80\\x98\\xe8\\xa84\\x97\\x7f!\\x19\\xb3/1\\x16\\xf3\\xc4d\\x9dH\\xd1\\x17\\x8b\\x9d\\xa3\\xed\\x18\\x94\\xd7\\x8e\\xb7\\x01\\x96\\xb9Dx\\x88\\xc8\\xfb\\xfa\\x8bK\\xd5y\\xf2\\x98\\xd1L\\xc6E\\xf3\\xab\\xe3\\xde*Z\\x13K\\xd4\\x9b\\x9b2\\x83U\\n\\xfc\\x1coA\\x8cNEw\\xf7\\xa6T\\x94>\\xcb\\xd2\\xbf\\xa85:\\xdf\\xb2\\x1f\"\\x13\\x86\\x8d\\xe2\\x97\\xfeM7\\x7f\\xdcL\\xb7M\\x14Y8\\xbc\\xe7bv3\\xe6\\x85\\xd7\\x1c\\x8e\\x02b\\x93\\x004\\xb3\\x94@\\xd4\\xd65\\x9f\\x0fP\\xb3\\xcb\\xc4\\xc5\\x0fEI\\x9er&\\xb5(\\xce\\xa58hp(\\xf0\\x9c\\x94\\xca\\xc5\\x08c\\x15\\xa8\\x8f&:\\x8f\\x01\\xbf\\xe3H\\xd8i\\x91cEy\\xb3\\xd4\\xadw\\x91\\x0c\\xe0\\x08)\\x81\\x9e\\x81\\x97\\xde\\x92\\xf2\\x13\\xbf%4D\\\\\\xe2\\x00\\x91\\x15R\\xfdK\\x99A\\x0e\\xca\\x82\\xb3\\x94P\\xaf\\xd4\\xe6\\x04\\x00\\x93g\\xefJ\\x8d\\xcd\\x8b\\xe1\\x04q5/\\xe2+\\xb9\\xb1s\\n^(\\xef\\x17\\xa2&Sv\\xb0\\x85]\\t\\xa6\\x86\\x10\\xd7\\xd5\\xde\\x03 lc\\xed\\x02\\xd9[9\\xcc\\xc7X\\xdfF\\xcfT\\xaa\\xe2\\x81At\\xd5\\xa0\\x17\\x9f\\x19\\xe5\\x0f/\\x92\\x83\\n\\x1b\\x9a4Y\\x02jv\\xea!dnJ\\xac:}3x\\xe3I\\xbb\\xc7\\xf1\\x98h\\x06'\n"
     ]
    }
   ],
   "source": [
    "headers, blob = parse_challenge(raw_challenge)\n",
    "print(headers)\n",
    "print(blob)"
   ]
  },
  {
   "cell_type": "code",
   "execution_count": 7,
   "id": "af9f769d-08ed-4884-87c3-e963787158e2",
   "metadata": {},
   "outputs": [],
   "source": [
    "def decipher(b64_decoded_message: bytes, timestamp: int) -> list[tuple[int, str]]:\n",
    "    decipher_options = []\n",
    "\n",
    "    rsa_encrypted_key = b64_decoded_message[:128]\n",
    "    iv = b64_decoded_message[128:144]\n",
    "    cipher_text = b64_decoded_message[144:]\n",
    "    if len(iv) != 16 or len(cipher_text) % 16 != 0:\n",
    "        raise ValueError(\"IV o ciphertext con longitud inválida\")\n",
    "\n",
    "    # start = int(timestamp) * 1_000_000\n",
    "    # end   = start + 1_000_000  # no inclusivo\n",
    "    base_us = int(timestamp) * 1_000_000\n",
    "    printable = set(range(32, 127)) | {9, 10, 13}\n",
    "    \n",
    "    for t in range(1_000_000):\n",
    "        try:\n",
    "            t_us = base_us + t\n",
    "            key_seed = t_us.to_bytes(8, \"big\")\n",
    "            key = md5(key_seed).digest()\n",
    "\n",
    "            dec = Cipher(algorithms.AES(key), modes.CBC(iv)).decryptor()\n",
    "            padded = dec.update(cipher_text) + dec.finalize()\n",
    "            unpad = symmetric_padding.PKCS7(128).unpadder()\n",
    "            pt = unpad.update(padded) + unpad.finalize()\n",
    "\n",
    "            head = pt[:20]\n",
    "            # Evitar división por cero si el plaintext es muy corto\n",
    "            if not head: \n",
    "                continue\n",
    "\n",
    "            # Verificar si es texto imprimible\n",
    "            if sum(b in printable for b in head) / len(head) >= 0.9:\n",
    "                try:\n",
    "                    txt = pt.decode(\"ascii\")\n",
    "                    print(f\"ÉXITO! Encontrado en el microsegundo: {t}\")\n",
    "                    return [(t_us, txt)]\n",
    "                except UnicodeDecodeError:\n",
    "                    # Si es imprimible pero no es ASCII puro, podría ser válido pero lo ignoramos\n",
    "                    continue\n",
    "        except Exception:\n",
    "            # Ahora el 'continue' solo se ejecuta si hay un error de padding u otro.\n",
    "            continue\n",
    "\n",
    "    return []\n",
    "    \n",
    "    "
   ]
  },
  {
   "cell_type": "code",
   "execution_count": 8,
   "id": "cb0570c0-53f5-4d3a-b1a4-8598b31b876c",
   "metadata": {},
   "outputs": [
    {
     "name": "stdout",
     "output_type": "stream",
     "text": [
      "Date: Fri Jan 14 19:45:58 UTC 2022\n",
      "Fri Jan 14 19:45:58 UTC 2022\n",
      "1642189558\n"
     ]
    }
   ],
   "source": [
    "lines = raw_challenge.splitlines()\n",
    "    # fecha UTC exacta desde el header\n",
    "date_line = next(l for l in lines if l.startswith(\"Date: \"))\n",
    "print(date_line)\n",
    "date_str = headers[1].replace(\"Date: \", \"\")\n",
    "print(date_str)\n",
    "base_sec = int(datetime.strptime(date_str, \"%a %b %d %H:%M:%S UTC %Y\").replace(tzinfo=timezone.utc).timestamp())\n",
    "print(base_sec)"
   ]
  },
  {
   "cell_type": "code",
   "execution_count": null,
   "id": "cb4c1350-c4c2-44b8-946a-35b87ed7c8bf",
   "metadata": {},
   "outputs": [],
   "source": []
  },
  {
   "cell_type": "code",
   "execution_count": 23,
   "id": "f0e8ad3b-258c-4d99-9df3-71251a9579da",
   "metadata": {},
   "outputs": [
    {
     "name": "stdout",
     "output_type": "stream",
     "text": [
      "ÉXITO! Encontrado en el microsegundo: 258342\n"
     ]
    },
    {
     "data": {
      "text/plain": [
       "'TeX is potentially the most significant invention in typesetting in this\\ncentury.  It introduces a standard language for computer typography, and in\\nterms of importance could rank near the introduction of the Gutenberg press.\\n\\t\\t-- Gordon Bell'"
      ]
     },
     "execution_count": 23,
     "metadata": {},
     "output_type": "execute_result"
    }
   ],
   "source": [
    "# date = int(datetime(2022,1,14,19,45,58, tzinfo=timezone.utc).timestamp()) \n",
    "descifrado = decipher(blob, base_sec)\n",
    "descifrado[0][1]"
   ]
  },
  {
   "cell_type": "code",
   "execution_count": 22,
   "id": "b439d923-abbe-4194-9e69-3236648e445f",
   "metadata": {},
   "outputs": [
    {
     "name": "stdout",
     "output_type": "stream",
     "text": [
      "Status code: 200\n",
      "¡Ganaste!\n",
      "\n"
     ]
    }
   ],
   "source": [
    "server = \"https://ciberseguridad.diplomatura.unc.edu.ar/cripto\"\n",
    "email = \"alvarmaciel@gmail.com\"\n",
    "response = requests.post(\n",
    "    f\"{server}/timerand/{email}/answer\",\n",
    "    files = { \"message\": descifrado[0][1]}\n",
    ")\n",
    "print(f\"Status code: {response.status_code}\")\n",
    "print(response.text)"
   ]
  },
  {
   "cell_type": "code",
   "execution_count": null,
   "id": "feab4f97-dc6e-4c07-8082-4d13ca6b2037",
   "metadata": {},
   "outputs": [],
   "source": []
  }
 ],
 "metadata": {
  "kernelspec": {
   "display_name": "Python 3 (ipykernel)",
   "language": "python",
   "name": "python3"
  },
  "language_info": {
   "codemirror_mode": {
    "name": "ipython",
    "version": 3
   },
   "file_extension": ".py",
   "mimetype": "text/x-python",
   "name": "python",
   "nbconvert_exporter": "python",
   "pygments_lexer": "ipython3",
   "version": "3.13.7"
  }
 },
 "nbformat": 4,
 "nbformat_minor": 5
}
