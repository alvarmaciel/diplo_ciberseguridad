{
 "cells": [
  {
   "cell_type": "markdown",
   "id": "b41e7aa6-2118-4538-8bea-9bf3c5d29994",
   "metadata": {},
   "source": [
    "# Challenge: timerand"
   ]
  },
  {
   "cell_type": "code",
   "execution_count": 3,
   "id": "36210960-131f-4730-9460-b0dfba124119",
   "metadata": {},
   "outputs": [],
   "source": [
    "import requests\n",
    "def get_challnge(challenge:str) -> str:\n",
    "    server = \"https://ciberseguridad.diplomatura.unc.edu.ar/cripto\"\n",
    "    email = \"alvarmaciel@gmail.com\"\n",
    "    response =  requests.get(f\"{server}/{challenge}/{email}/challenge\")\n",
    "    return response.text"
   ]
  },
  {
   "cell_type": "code",
   "execution_count": 30,
   "id": "17c6fa83-b122-45ef-93ca-4dc8d24c04a1",
   "metadata": {},
   "outputs": [
    {
     "data": {
      "text/plain": [
       "'From: User <user@example.com>\\nDate: Fri Jan 14 19:45:58 UTC 2022\\nTo: alvarmaciel@gmail.com\\n\\nJKjGe49INxspqtMMtm6hesPCxag4ljpDzLhlmyagYkEpcuzz7cSdMYMaigA1Rqkwqk+KtVxODwNV8vGM2tUsWgTJ4xA4RFrx0Ww2o/o27ocLKUwfQiVPENw198AI25iAljOAmOioNJd/IRmzLzEW88RknUjRF4udo+0YlNeOtwGWuUR4iMj7+otL1XnymNFMxkXzq+PeKloTS9SbmzKDVQr8HG9BjE5Fd/emVJQ+y9K/qDU637IfIhOGjeKX/k03f9xMt00UWTi852J2M+aF1xyOAmKTADSzlEDU1jWfD1Czy8TFD0VJnnImtSjOpThocCjwnJTKxQhjFaiPJjqPAb/jSNhpkWNFebPUrXeRDOAIKYGegZfekvITvyU0RFziAJEVUv1LmUEOyoKzlFCv1OYEAJNn70qNzYvhBHE1L+IrubFzCl4o7xeiJlN2sIVdCaaGENfV3gMgbGPtAtlbOczHWN9Gz1Sq4oFBdNWgF58Z5Q8vkoMKG5o0WQJqduohZG5KrDp9M3jjSbvH8ZhoBg==\\n'"
      ]
     },
     "execution_count": 30,
     "metadata": {},
     "output_type": "execute_result"
    }
   ],
   "source": [
    "raw_challenge = get_challnge(\"timerand\")\n",
    "raw_challenge"
   ]
  },
  {
   "cell_type": "markdown",
   "id": "eb5a8ab1-1e75-485e-8945-035c2f569ff1",
   "metadata": {},
   "source": [
    "# Ejemplo Generador de codigo"
   ]
  },
  {
   "cell_type": "code",
   "execution_count": 15,
   "id": "77a9900f-b374-43bc-84af-766a5bc73679",
   "metadata": {},
   "outputs": [
    {
     "data": {
      "text/plain": [
       "b'hZ4LN4T8J5T7RWkWz4Bhu51ybciOxCQeuxzxC8FdWVEI7H+SGJnDcEIPNZmSRtVwmTNKZEIlf1tZfA6RP5QgzAnxps5MjvSuTSzMFSvuRMUyuUMu0TT59gWVlZE5oLFcro+ST6Lj7E6BagFCDAZAU9jlwiKaY8SPfgKRHRGfNuAwyK2dBUxwVX6GTqnQsy+B9YP2QUlC9BemKFElmJZXWt2JnvMLoATxScNp3B8kR/2Qz/3H3V76anNZ5S8jGk5h'"
      ]
     },
     "execution_count": 15,
     "metadata": {},
     "output_type": "execute_result"
    }
   ],
   "source": [
    "import time\n",
    "import base64\n",
    "from hashlib import md5\n",
    "from cryptography.hazmat.primitives.ciphers import Cipher, algorithms, modes\n",
    "from cryptography.hazmat.primitives.asymmetric import rsa, padding as asymmetric_padding\n",
    "from cryptography.hazmat.primitives import serialization, hashes, padding as symmetric_padding\n",
    "from cryptography.hazmat.backends import default_backend  \n",
    "\n",
    "def generate_challenge(message, public_key):\n",
    "    # Obtenemos el tiempo en microsegundos\n",
    "    now = int(time.time()*1000000)\n",
    "    # Este es un mal mecanismo para generar una clave\n",
    "    key_seed = now.to_bytes(8,\"big\")\n",
    "    key = md5(key_seed).digest()\n",
    "    # Este es un mal mecanismo para generar un IV\n",
    "    iv_seed = (now+1).to_bytes(8,\"big\")\n",
    "    iv = md5(iv_seed).digest()\n",
    "    # Ciframos el mensaje con AES-128 usando la clave `key`\n",
    "    # Obtenemos una instancia del cifrador\n",
    "    cipher = Cipher(algorithms.AES(key), modes.CBC(iv), backend=default_backend())\n",
    "    encryptor = cipher.encryptor()\n",
    "    # Usamos PKCS7 como mecanismo de relleno\n",
    "    padder = symmetric_padding.PKCS7(128).padder()\n",
    "    padded = padder.update(message) + padder.finalize()\n",
    "    # Ciframos\n",
    "    ciphertext = encryptor.update(padded) + encryptor.finalize()\n",
    "    # Ciframos la clave secreta con la clave pública del destinatario\n",
    "    encrypted_key = public_key.encrypt(\n",
    "        key,\n",
    "        asymmetric_padding.OAEP(\n",
    "            mgf=asymmetric_padding.MGF1(algorithm=hashes.SHA256()),\n",
    "            algorithm=hashes.SHA256(),\n",
    "            label=None\n",
    "        )\n",
    "    )\n",
    "    assert(len(encrypted_key) == 128)\n",
    "    # El desafío está compuesto por la clave cifrada, el iv y el texto cifrado\n",
    "    return base64.b64encode(encrypted_key + iv + ciphertext)\n",
    "\n",
    "# Clave pública serializada\n",
    "pem = b'-----BEGIN PUBLIC KEY-----\\nMIGfMA0GCSqGSIb3DQEBAQUAA4GNADCBiQKBgQDIgCvlphhRoOt39+rBUxdqrivb\\nxVdYmlGXkT/5mO6/fwYzA/yXeg1aKEIj1f1l1yXWecN0iYrDUflwyN5aMj6nH+zW\\nYfMOVhp2seFya10vXA24UX5o5Ei7JLcnf1ubO3VfH4Fttcvvy27Qmkii3uedOTFi\\nZtZn/U1dhm1rYhtrPwIDAQAB\\n-----END PUBLIC KEY-----\\n'\n",
    "message = b\"Este es el texto claro del mensaje\"\n",
    "# Deserializamos la clave pública\n",
    "public_key = serialization.load_pem_public_key(pem)\n",
    "\n",
    "generate_challenge(message, public_key)"
   ]
  },
  {
   "cell_type": "code",
   "execution_count": 35,
   "id": "e30cbb6f-904f-437c-b6f7-f133d81ac004",
   "metadata": {},
   "outputs": [],
   "source": [
    "# Timestamp helper\n",
    "from datetime import datetime\n",
    "def datetime_to_timestamp(date: datetime) -> float:\n",
    "    return date.timestamp()"
   ]
  },
  {
   "cell_type": "code",
   "execution_count": 40,
   "id": "fc35c002-b3c4-4a18-a604-ed04a886d413",
   "metadata": {},
   "outputs": [
    {
     "name": "stdout",
     "output_type": "stream",
     "text": [
      "From: User <user@example.com>\n",
      "Date: Fri Jan 14 19:45:58 UTC 2022\n",
      "To: alvarmaciel@gmail.com\n",
      "\n",
      "JKjGe49INxspqtMMtm6hesPCxag4ljpDzLhlmyagYkEpcuzz7cSdMYMaigA1Rqkwqk+KtVxODwNV8vGM2tUsWgTJ4xA4RFrx0Ww2o/o27ocLKUwfQiVPENw198AI25iAljOAmOioNJd/IRmzLzEW88RknUjRF4udo+0YlNeOtwGWuUR4iMj7+otL1XnymNFMxkXzq+PeKloTS9SbmzKDVQr8HG9BjE5Fd/emVJQ+y9K/qDU637IfIhOGjeKX/k03f9xMt00UWTi852J2M+aF1xyOAmKTADSzlEDU1jWfD1Czy8TFD0VJnnImtSjOpThocCjwnJTKxQhjFaiPJjqPAb/jSNhpkWNFebPUrXeRDOAIKYGegZfekvITvyU0RFziAJEVUv1LmUEOyoKzlFCv1OYEAJNn70qNzYvhBHE1L+IrubFzCl4o7xeiJlN2sIVdCaaGENfV3gMgbGPtAtlbOczHWN9Gz1Sq4oFBdNWgF58Z5Q8vkoMKG5o0WQJqduohZG5KrDp9M3jjSbvH8ZhoBg==\n",
      "\n"
     ]
    }
   ],
   "source": [
    "print(raw_challenge)"
   ]
  },
  {
   "cell_type": "code",
   "execution_count": 38,
   "id": "1988d027-a7e4-4a3f-bd26-ee537aac2bed",
   "metadata": {},
   "outputs": [
    {
     "data": {
      "text/plain": [
       "'JKjGe49INxspqtMMtm6hesPCxag4ljpDzLhlmyagYkEpcuzz7cSdMYMaigA1Rqkwqk+KtVxODwNV8vGM2tUsWgTJ4xA4RFrx0Ww2o/o27ocLKUwfQiVPENw198AI25iAljOAmOioNJd/IRmzLzEW88RknUjRF4udo+0YlNeOtwGWuUR4iMj7+otL1XnymNFMxkXzq+PeKloTS9SbmzKDVQr8HG9BjE5Fd/emVJQ+y9K/qDU637IfIhOGjeKX/k03f9xMt00UWTi852J2M+aF1xyOAmKTADSzlEDU1jWfD1Czy8TFD0VJnnImtSjOpThocCjwnJTKxQhjFaiPJjqPAb/jSNhpkWNFebPUrXeRDOAIKYGegZfekvITvyU0RFziAJEVUv1LmUEOyoKzlFCv1OYEAJNn70qNzYvhBHE1L+IrubFzCl4o7xeiJlN2sIVdCaaGENfV3gMgbGPtAtlbOczHWN9Gz1Sq4oFBdNWgF58Z5Q8vkoMKG5o0WQJqduohZG5KrDp9M3jjSbvH8ZhoBg=='"
      ]
     },
     "execution_count": 38,
     "metadata": {},
     "output_type": "execute_result"
    }
   ],
   "source": [
    "b64_message = raw_challenge.split(\"\\n\")[4]\n",
    "b64_message"
   ]
  },
  {
   "cell_type": "code",
   "execution_count": 39,
   "id": "5a600844-346a-400d-9770-ddab49ba04c7",
   "metadata": {},
   "outputs": [
    {
     "data": {
      "text/plain": [
       "1642200358.0"
      ]
     },
     "execution_count": 39,
     "metadata": {},
     "output_type": "execute_result"
    }
   ],
   "source": [
    "date = datetime_to_timestamp(datetime(2022,1,14,19,45,58))\n",
    "date"
   ]
  },
  {
   "cell_type": "code",
   "execution_count": 41,
   "id": "bb3f0cea-d2bf-4525-8224-9658c146fb84",
   "metadata": {},
   "outputs": [],
   "source": [
    "b_message = base64.b64decode(b64_message)"
   ]
  },
  {
   "cell_type": "code",
   "execution_count": 44,
   "id": "a184049c-15f9-4425-b2ad-9f382c3157a9",
   "metadata": {},
   "outputs": [
    {
     "name": "stdout",
     "output_type": "stream",
     "text": [
      "IV: 96b9447888c8fbfa8b4bd579f298d14c\n"
     ]
    }
   ],
   "source": [
    "\n",
    "print(\"IV:\", iv.hex())"
   ]
  },
  {
   "cell_type": "code",
   "execution_count": 49,
   "id": "af9f769d-08ed-4884-87c3-e963787158e2",
   "metadata": {},
   "outputs": [],
   "source": [
    "def decipher(b64_decoded_message: bytes, timestamp:float):\n",
    "    # decode\n",
    "    rsa_encrypted_key = b64_decoded_message[:128]\n",
    "    iv = b64_decoded_message[128:144]\n",
    "    cipher_text=b64_decoded_message[144:]\n",
    "    # key range\n",
    "    starter_key=int(timestamp * 1_000_000)\n",
    "    for t in range(starter_key, starter_key + 1_000_000):\n",
    "        # Try to decode\n",
    "        timestamp_candidate_bytes = t.to_bytes(8,\"big\")\n",
    "        timestamp_candidate_md5 = md5(timestamp_candidate_bytes).digest()\n",
    "        candidate_cipher = Cipher(algorithms.AES(timestamp_candidate_md5), modes.CBC(iv), backend=default_backend())\n",
    "        decryptor = candidate_cipher.decryptor()\n",
    "        candidate = decryptor.update(cipher_text) + decryptor.finalize()\n",
    "        # verify\n",
    "    return result\n",
    "    \n",
    "    "
   ]
  },
  {
   "cell_type": "code",
   "execution_count": null,
   "id": "f0e8ad3b-258c-4d99-9df3-71251a9579da",
   "metadata": {},
   "outputs": [],
   "source": []
  }
 ],
 "metadata": {
  "kernelspec": {
   "display_name": "Python 3 (ipykernel)",
   "language": "python",
   "name": "python3"
  },
  "language_info": {
   "codemirror_mode": {
    "name": "ipython",
    "version": 3
   },
   "file_extension": ".py",
   "mimetype": "text/x-python",
   "name": "python",
   "nbconvert_exporter": "python",
   "pygments_lexer": "ipython3",
   "version": "3.13.7"
  }
 },
 "nbformat": 4,
 "nbformat_minor": 5
}
