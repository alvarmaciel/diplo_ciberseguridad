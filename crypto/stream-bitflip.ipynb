{
 "cells": [
  {
   "cell_type": "markdown",
   "id": "ceac9842-cc7d-4fd8-ac53-608806ed495e",
   "metadata": {},
   "source": [
    "# stream-bitflip\n",
    "En este desafío, el servidor permite a un usuario registrarse con un correo electrónico y un conjunto de datos adicionales, y devuelve un perfil cifrado con un algoritmo de cifrado de flujo.\n",
    "\n",
    "Si el usuario registró el correo usuario@example.com y puso como datos “Juan P. Usuario”, el perfil tendrá la forma:\n",
    "\n",
    "user=usuario@example.com;data=Juan P. Usuario;role=user\n",
    "\n",
    "Es decir, está compuesto por un conjunto de pares atributo-valor, de la forma <atributo>=<valor>, y separados por punto y coma.\n",
    "\n",
    "El servidor devuelve el perfil cifrado, precedido por un nonce de 16 bytes, y codificado en base64.\n",
    "\n",
    "El desafío es alterar el mensaje cifrado de manera tal que al descifrarlo incluya el par role=admin. Esta alteración es posible porque los cifradores de flujo son maleables. Es posible modificar el texto cifrado de manera tal que al descifrarlo el texto claro haya sido modificado de manera predecible.\n",
    "\n",
    "Este tipo de ataque se denomina bit flipping, porque el cambio de un bit en el texto cifrado provoca un cambio del mismo bit en el texto claro.\n",
    "\n",
    "Para obtener los textos cifrados, se debe hacer un requerimiento POST a una URL de la forma:\n",
    "\n",
    "https://ciberseguridad.diplomatura.unc.edu.ar/cripto/stream-bitflip/<email>/register\n",
    "        \n",
    "\n",
    "dónde <email> debe ser reemplazado por una dirección de correo electrónico registrada.\n",
    "\n",
    "El contenido debe ser de tipo FORM, con dos campos:\n",
    "\n",
    "- Un campo email, con una dirección de correo a registrar. No es necesario que sea la misma dirección utilizada para acceder al desafío.\n",
    "- Un campo data, con datos arbitrarios, codificado en base64. Los datos no pueden contener el carácter ‘;’ ni el carácter ‘=’.\n",
    "\n",
    "La respuesta será un perfil como el descripto, cifrado, concatenado con el nonce y codificado en base64.\n",
    "\n",
    "Si en lugar de hacer un requerimiento POST se hace un requerimiento GET, muestra un formulario que permite cargar los campos requeridos."
   ]
  },
  {
   "cell_type": "code",
   "execution_count": 49,
   "id": "98086271-0e5d-4f29-92f0-e11d14b6d087",
   "metadata": {},
   "outputs": [
    {
     "name": "stdout",
     "output_type": "stream",
     "text": [
      "WFhYWFhYWFhYWA==\n"
     ]
    }
   ],
   "source": [
    "import requests\n",
    "import base64\n",
    "SERVER = \"https://ciberseguridad.diplomatura.unc.edu.ar/cripto\"\n",
    "EMAIL = \"alvarmaciel@gmail.com\"\n",
    "form_data = {\n",
    "    \"email\": \"alvarmaciel@gmail.com\",\n",
    "    \"data\": base64.b64encode(b\"XXXXXXXXXX\").decode('utf-8')\n",
    "}\n",
    "print(form_data[\"data\"])\n",
    "def get_challenge(challenge:str) -> str:\n",
    "    response =  requests.post(f\"{SERVER}/{challenge}/{EMAIL}/register\", files=form_data)\n",
    "    return response"
   ]
  },
  {
   "cell_type": "code",
   "execution_count": 50,
   "id": "91815223-cffc-4087-a8e8-e592d16ee601",
   "metadata": {},
   "outputs": [
    {
     "name": "stdout",
     "output_type": "stream",
     "text": [
      "200\n",
      "b'fYFJCXcOKB341P10px6xCymF53tQQPUydLHC5jkb7D0ACxfRZEJWwayJd12cMpAh7SEiS2FNMqAGWXenGPDYz8Ai/Gw='\n",
      "b'--c4e55a089941c16b4ae526cef8053130\\r\\nContent-Disposition: form-data; name=\"email\"; filename=\"email\"\\r\\n\\r\\nalvarmaciel@gmail.com\\r\\n--c4e55a089941c16b4ae526cef8053130\\r\\nContent-Disposition: form-data; name=\"data\"; filename=\"data\"\\r\\n\\r\\nWFhYWFhYWFhYWA==\\r\\n--c4e55a089941c16b4ae526cef8053130--\\r\\n'\n"
     ]
    }
   ],
   "source": [
    "response = get_challenge(\"stream-bitflip\")\n",
    "print(response.status_code)\n",
    "print(response.content)\n",
    "print(response.request.body)\n"
   ]
  },
  {
   "cell_type": "code",
   "execution_count": 51,
   "id": "cd2c3660-062b-4ef3-9982-88c6eecaed15",
   "metadata": {},
   "outputs": [
    {
     "name": "stdout",
     "output_type": "stream",
     "text": [
      "Nonce length: 16\n",
      "Ciphertext length: 52\n",
      "Ciphertext (hex): 2985e77b5040f53274b1c2e6391bec3d000b17d1644256c1ac89775d9c329021ed21224b614d32a0065977a718f0d8cfc022fc6c\n"
     ]
    }
   ],
   "source": [
    "encrypted = base64.b64decode(response.content)\n",
    "nonce = encrypted[:16]\n",
    "ciphertext = encrypted[16:]\n",
    "\n",
    "print(f\"Nonce length: {len(nonce)}\")\n",
    "print(f\"Ciphertext length: {len(ciphertext)}\")\n",
    "print(f\"Ciphertext (hex): {ciphertext.hex()}\")"
   ]
  },
  {
   "cell_type": "code",
   "execution_count": 52,
   "id": "d6c422ce-f136-4a2c-ab47-154d291c2ae5",
   "metadata": {},
   "outputs": [],
   "source": [
    "plain_text = \"user=alvarmaciel@gmail.com;data=XXXXXXXXXX;role=user\""
   ]
  },
  {
   "cell_type": "code",
   "execution_count": 53,
   "id": "6524f82d-674c-4dc9-884b-8dcdc60c716a",
   "metadata": {},
   "outputs": [
    {
     "name": "stdout",
     "output_type": "stream",
     "text": [
      "Plain text lenghy: 52\n"
     ]
    }
   ],
   "source": [
    "print(f\"Plain text lenghy: {len(plain_text)}\")"
   ]
  },
  {
   "cell_type": "code",
   "execution_count": 55,
   "id": "2712893f-824c-4dac-804f-dfff89d2c634",
   "metadata": {},
   "outputs": [
    {
     "data": {
      "text/plain": [
       "'user'"
      ]
     },
     "execution_count": 55,
     "metadata": {},
     "output_type": "execute_result"
    }
   ],
   "source": [
    "plain_text[-4:]"
   ]
  },
  {
   "cell_type": "code",
   "execution_count": 60,
   "id": "754265c2-457a-4b61-a689-6e3dbd560d4b",
   "metadata": {},
   "outputs": [
    {
     "data": {
      "text/plain": [
       "'X;role=user'"
      ]
     },
     "execution_count": 60,
     "metadata": {},
     "output_type": "execute_result"
    }
   ],
   "source": [
    "plain_text[-11:]"
   ]
  },
  {
   "cell_type": "code",
   "execution_count": 62,
   "id": "4e956d6d-3a71-455d-8d53-3a374ea7a819",
   "metadata": {},
   "outputs": [],
   "source": [
    "original = b\"X;role=user\"  \n",
    "target   = b\";role=admin\" "
   ]
  },
  {
   "cell_type": "code",
   "execution_count": 63,
   "id": "143ae2a4-329e-428e-b01a-2d096ff4e8b4",
   "metadata": {},
   "outputs": [
    {
     "name": "stdout",
     "output_type": "stream",
     "text": [
      "Delta (hex): 63491d0309585c111e0c1c\n"
     ]
    }
   ],
   "source": [
    "delta = bytes([o ^ t for o, t in zip(original, target)])\n",
    "print(f\"Delta (hex): {delta.hex()}\")"
   ]
  },
  {
   "cell_type": "code",
   "execution_count": 64,
   "id": "d7c7ccb4-9edf-4581-86ba-5ef9420df55b",
   "metadata": {},
   "outputs": [],
   "source": [
    "modified_ciphertext = bytearray(ciphertext)\n",
    "start_pos = len(ciphertext) - 11\n",
    "\n",
    "for i in range(11):\n",
    "    modified_ciphertext[start_pos + i] ^= delta[i]\n",
    "\n",
    "modified_ciphertext = bytes(modified_ciphertext)"
   ]
  },
  {
   "cell_type": "code",
   "execution_count": 68,
   "id": "2db68f16-c9af-4513-b596-4102eb25b2a5",
   "metadata": {},
   "outputs": [
    {
     "data": {
      "text/plain": [
       "b')\\x85\\xe7{P@\\xf52t\\xb1\\xc2\\xe69\\x1b\\xec=\\x00\\x0b\\x17\\xd1dBV\\xc1\\xac\\x89w]\\x9c2\\x90!\\xed!\"KaM2\\xa0\\x06:>\\xba\\x1b\\xf9\\x80\\x93\\xd1<\\xf0p'"
      ]
     },
     "execution_count": 68,
     "metadata": {},
     "output_type": "execute_result"
    }
   ],
   "source": [
    "modified_ciphertext"
   ]
  },
  {
   "cell_type": "code",
   "execution_count": 70,
   "id": "d54f7ddb-7393-4fae-b2c8-8fb47888e42f",
   "metadata": {},
   "outputs": [
    {
     "name": "stdout",
     "output_type": "stream",
     "text": [
      "Modified (base64): fYFJCXcOKB341P10px6xCymF53tQQPUydLHC5jkb7D0ACxfRZEJWwayJd12cMpAh7SEiS2FNMqAGOj66G/mAk9E88HA=\n"
     ]
    }
   ],
   "source": [
    "modified_encrypted = nonce + modified_ciphertext\n",
    "modified_b64 = base64.b64encode(modified_encrypted).decode('utf-8')\n",
    "\n",
    "print(f\"Modified (base64): {modified_b64}\")"
   ]
  },
  {
   "cell_type": "code",
   "execution_count": 71,
   "id": "c2a754cb-6aa8-4416-8997-5aeaf50a73ab",
   "metadata": {},
   "outputs": [
    {
     "name": "stdout",
     "output_type": "stream",
     "text": [
      "Status code: 200\n",
      "¡Ganaste!\n",
      "\n"
     ]
    }
   ],
   "source": [
    "challenge_response = requests.post(\n",
    "    f\"{SERVER}/stream-bitflip/{EMAIL}/answer\",\n",
    "    files = { \"message\":modified_b64}\n",
    ")\n",
    "print(f\"Status code: {challenge_response.status_code}\")\n",
    "print(challenge_response.text)"
   ]
  },
  {
   "cell_type": "code",
   "execution_count": null,
   "id": "96dcd749-d1f9-487c-9d07-2909646f7806",
   "metadata": {},
   "outputs": [],
   "source": []
  }
 ],
 "metadata": {
  "kernelspec": {
   "display_name": "Python 3 (ipykernel)",
   "language": "python",
   "name": "python3"
  },
  "language_info": {
   "codemirror_mode": {
    "name": "ipython",
    "version": 3
   },
   "file_extension": ".py",
   "mimetype": "text/x-python",
   "name": "python",
   "nbconvert_exporter": "python",
   "pygments_lexer": "ipython3",
   "version": "3.13.7"
  }
 },
 "nbformat": 4,
 "nbformat_minor": 5
}
