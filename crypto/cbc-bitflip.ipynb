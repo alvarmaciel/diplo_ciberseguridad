{
 "cells": [
  {
   "cell_type": "code",
   "execution_count": 29,
   "id": "2e47cfe5-c26c-40bc-a37d-05c210c482a8",
   "metadata": {},
   "outputs": [
    {
     "name": "stdout",
     "output_type": "stream",
     "text": [
      "URL configurada: https://ciberseguridad.diplomatura.unc.edu.ar/cripto/cbc-bitflip/alvarmaciel@gmail.com/register\n"
     ]
    }
   ],
   "source": [
    "import requests\n",
    "import base64\n",
    "from typing import Tuple\n",
    "\n",
    "YOUR_EMAIL = \"alvarmaciel@gmail.com\"\n",
    "\n",
    "# URL base del desafío\n",
    "BASE_URL = f\"https://ciberseguridad.diplomatura.unc.edu.ar/cripto/cbc-bitflip/{YOUR_EMAIL}/register\"\n",
    "\n",
    "print(f\"URL configurada: {BASE_URL}\")"
   ]
  },
  {
   "cell_type": "code",
   "execution_count": 35,
   "id": "837d4650-c2c2-4f68-8f7c-18a12998d808",
   "metadata": {},
   "outputs": [
    {
     "name": "stdout",
     "output_type": "stream",
     "text": [
      "Funciones auxiliares definidas.\n"
     ]
    }
   ],
   "source": [
    "def register_user(email: str, data: str) -> bytes:\n",
    "    \"\"\"\n",
    "    Registra un usuario y obtiene el perfil cifrado.\n",
    "    \n",
    "    Args:\n",
    "        email: Dirección de correo\n",
    "        data: Datos adicionales (sin ; ni =)\n",
    "    \n",
    "    Returns:\n",
    "        Bytes del IV + ciphertext\n",
    "    \"\"\"\n",
    "    # Codificar data en base64\n",
    "    data_b64 = base64.b64encode(data.encode()).decode()\n",
    "    \n",
    "    # Hacer POST request\n",
    "    response = requests.post(\n",
    "        BASE_URL,\n",
    "        files={\n",
    "            'email': email,\n",
    "            'data': data_b64\n",
    "        }\n",
    "    )\n",
    "    \n",
    "    if response.status_code != 200:\n",
    "        raise Exception(f\"Error en la petición: {response.status_code}\\n{response.text}\")\n",
    "    \n",
    "    # Decodificar respuesta base64\n",
    "    encrypted_profile = base64.b64decode(response.text.strip())\n",
    "    \n",
    "    return encrypted_profile\n",
    "\n",
    "def split_iv_ciphertext(encrypted: bytes) -> Tuple[bytes, bytes]:\n",
    "    \"\"\"\n",
    "    Separa el IV (primeros 16 bytes) del ciphertext.\n",
    "    \"\"\"\n",
    "    iv = encrypted[:16]\n",
    "    ciphertext = encrypted[16:]\n",
    "    return iv, ciphertext\n",
    "\n",
    "def visualize_blocks(data: bytes, block_size: int = 16, hexe=True) -> None:\n",
    "    \"\"\"\n",
    "    Visualiza los bloques de datos.\n",
    "    \"\"\"\n",
    "    for i in range(0, len(data), block_size):\n",
    "        block = data[i:i+block_size]\n",
    "        if hexe:\n",
    "            print(f\"Bloque {i//block_size}: {block.hex()} ({len(block)} bytes)\")\n",
    "        else:\n",
    "            print(f\"Bloque {i//block_size}: {block} ({len(block)} bytes)\")\n",
    "\n",
    "print(\"Funciones auxiliares definidas.\")"
   ]
  },
  {
   "cell_type": "code",
   "execution_count": 48,
   "id": "f1328db4-a55f-4567-a9e9-ba87eb036545",
   "metadata": {},
   "outputs": [
    {
     "name": "stdout",
     "output_type": "stream",
     "text": [
      "Registrando usuario: a@b.com\n",
      "Con datos: TestDataAAAAAAAAAAAAAAAAAAAAAAAA\n",
      "\n",
      "Perfil esperado (plaintext): user=a@b.com;data=TestDataAAAAAAAAAAAAAAAAAAAAAAAA;role=user\n",
      "\n",
      "--- Bloques a encriptar ---\n",
      "Bloque 0: user=a@b.com;dat (16 bytes)\n",
      "Bloque 1: a=TestDataAAAAAA (16 bytes)\n",
      "Bloque 2: AAAAAAAAAAAAAAAA (16 bytes)\n",
      "Bloque 3: AA;role=user (12 bytes)\n",
      "Longitud: 60 bytes\n",
      "\n",
      "Perfil cifrado recibido: 80 bytes\n",
      "Perfil: b'E\\rH\\xbaO\\x94\\xb55_\\xc0:\\x8a&\\xbf\\xf17\\x07\\x8e\\rC\\x81U\\x0e\\xb0\\xae$\\r\\x06g\\xdd\\x0f\\xfa9\\xbe\\xe8\\x13@;5\\xbdn:\\xf5-\\xdf\\x00-U\\x81\\x87v\\x9d\\xfa\\xe0?\\xfcC+q\\x9a(R\\xbdV\\xee\\xfb\\x1a\\x08Fq\\xe2\\xc6\\xc5U\\x1f\\xe9\\x12\\xc3\\x97a'\n",
      "\n",
      "IV (16 bytes): 450d48ba4f94b5355fc03a8a26bff137\n",
      "Ciphertext (64 bytes):\n",
      "Bloque 0: 078e0d4381550eb0ae240d0667dd0ffa (16 bytes)\n",
      "Bloque 1: 39bee813403b35bd6e3af52ddf002d55 (16 bytes)\n",
      "Bloque 2: 8187769dfae03ffc432b719a2852bd56 (16 bytes)\n",
      "Bloque 3: eefb1a084671e2c6c5551fe912c39761 (16 bytes)\n"
     ]
    }
   ],
   "source": [
    "# Probemos con un email y datos simples para entender la estructura\n",
    "test_email = \"a@b.com\"\n",
    "test_data = \"TestDataAAAAAAAAAAAAAAAAAAAAAAAA\"\n",
    "\n",
    "print(f\"Registrando usuario: {test_email}\")\n",
    "print(f\"Con datos: {test_data}\")\n",
    "print()\n",
    "\n",
    "# El perfil resultante será:\n",
    "expected_profile = f\"user={test_email};data={test_data};role=user\"\n",
    "print(f\"Perfil esperado (plaintext): {expected_profile}\")\n",
    "\n",
    "print(\"\\n--- Bloques a encriptar ---\")\n",
    "visualize_blocks(expected_profile, hexe=False)\n",
    "\n",
    "    \n",
    "print(f\"Longitud: {len(expected_profile)} bytes\")\n",
    "print()\n",
    "\n",
    "# Obtener el perfil cifrado\n",
    "encrypted = register_user(test_email, test_data)\n",
    "print(f\"Perfil cifrado recibido: {len(encrypted)} bytes\")\n",
    "print(f\"Perfil: {encrypted}\")\n",
    "\n",
    "# Separar IV y ciphertext\n",
    "iv, ciphertext = split_iv_ciphertext(encrypted)\n",
    "print(f\"\\nIV ({len(iv)} bytes): {iv.hex()}\")\n",
    "print(f\"Ciphertext ({len(ciphertext)} bytes):\")\n",
    "visualize_blocks(ciphertext)"
   ]
  },
  {
   "cell_type": "code",
   "execution_count": 49,
   "id": "89ce03fb-19a9-457e-afbe-1fb49cd7d096",
   "metadata": {},
   "outputs": [
    {
     "name": "stdout",
     "output_type": "stream",
     "text": [
      "Profile: user=a@b.com;data=TestDataAAAAAAAAAAAAAAAAAAAAAAAA;role=user\n",
      "Longitud: 60\n",
      "Bloque 0: b'user=a@b.com;dat' (16 bytes)\n",
      "Bloque 1: b'a=TestDataAAAAAA' (16 bytes)\n",
      "Bloque 2: b'AAAAAAAAAAAAAAAA' (16 bytes)\n",
      "Bloque 3: b'AA;role=user' (12 bytes)\n"
     ]
    }
   ],
   "source": [
    "email = \"a@b.com\"\n",
    "data = \"TestDataAAAAAAAAAAAAAAAAAAAAAAAA\"  # ajustá la cantidad\n",
    "profile = f\"user={email};data={data};role=user\"\n",
    "\n",
    "print(f\"Profile: {profile}\")\n",
    "print(f\"Longitud: {len(profile)}\")\n",
    "visualize_blocks(profile.encode(), hexe=False)"
   ]
  },
  {
   "cell_type": "code",
   "execution_count": 50,
   "id": "7c166f4d-17f0-41e1-849e-4b21941d742f",
   "metadata": {},
   "outputs": [
    {
     "name": "stdout",
     "output_type": "stream",
     "text": [
      "Posición 0: 'A' XOR 'A' = 00\n",
      "Posición 1: 'A' XOR ';' = 7a\n",
      "Posición 2: ';' XOR 'r' = 49\n",
      "Posición 3: 'r' XOR 'o' = 1d\n",
      "Posición 4: 'o' XOR 'l' = 03\n",
      "Posición 5: 'l' XOR 'e' = 09\n",
      "Posición 6: 'e' XOR '=' = 58\n",
      "Posición 7: '=' XOR 'a' = 5c\n",
      "Posición 8: 'u' XOR 'd' = 11\n",
      "Posición 9: 's' XOR 'm' = 1e\n",
      "Posición 10: 'e' XOR 'i' = 0c\n",
      "Posición 11: 'r' XOR 'n' = 1c\n",
      "\n",
      "Deltas: ['00', '7a', '49', '1d', '03', '09', '58', '5c', '11', '1e', '0c', '1c']\n"
     ]
    }
   ],
   "source": [
    "# deltas \n",
    "original = \"AA;role=user\"\n",
    "target = \"A;role=admin\"\n",
    "\n",
    "# Calcular deltas\n",
    "deltas = []\n",
    "for i in range(len(original)):\n",
    "    delta = ord(original[i]) ^ ord(target[i])\n",
    "    deltas.append(delta)\n",
    "    print(f\"Posición {i}: '{original[i]}' XOR '{target[i]}' = {delta:02x}\")\n",
    "\n",
    "print(f\"\\nDeltas: {[f'{d:02x}' for d in deltas]}\")"
   ]
  },
  {
   "cell_type": "code",
   "execution_count": 51,
   "id": "63fef8a3-71ea-4e41-bcc5-1eecd4a62600",
   "metadata": {},
   "outputs": [
    {
     "data": {
      "text/plain": [
       "b'\\x00zI\\x1d\\x03\\tX\\\\\\x11\\x1e\\x0c\\x1c'"
      ]
     },
     "execution_count": 51,
     "metadata": {},
     "output_type": "execute_result"
    }
   ],
   "source": [
    "original = b'AA;role=user'\n",
    "target = b\"A;role=admin\"\n",
    "mask = bytes(a ^ b for a, b in zip(original, target))\n",
    "mask"
   ]
  },
  {
   "cell_type": "code",
   "execution_count": 52,
   "id": "d95a4565-3f5a-4aa3-bce0-ef416e083ccf",
   "metadata": {},
   "outputs": [
    {
     "data": {
      "text/plain": [
       "b'E\\rH\\xbaO\\x94\\xb55_\\xc0:\\x8a&\\xbf\\xf17'"
      ]
     },
     "execution_count": 52,
     "metadata": {},
     "output_type": "execute_result"
    }
   ],
   "source": [
    "iv"
   ]
  },
  {
   "cell_type": "code",
   "execution_count": 53,
   "id": "60142c50-a8c4-408f-b2dc-820c85d3a9f1",
   "metadata": {},
   "outputs": [
    {
     "data": {
      "text/plain": [
       "b'\\x07\\x8e\\rC\\x81U\\x0e\\xb0\\xae$\\r\\x06g\\xdd\\x0f\\xfa9\\xbe\\xe8\\x13@;5\\xbdn:\\xf5-\\xdf\\x00-U\\x81\\x87v\\x9d\\xfa\\xe0?\\xfcC+q\\x9a(R\\xbdV\\xee\\xfb\\x1a\\x08Fq\\xe2\\xc6\\xc5U\\x1f\\xe9\\x12\\xc3\\x97a'"
      ]
     },
     "execution_count": 53,
     "metadata": {},
     "output_type": "execute_result"
    }
   ],
   "source": [
    "ciphertext"
   ]
  },
  {
   "cell_type": "code",
   "execution_count": 54,
   "id": "1cc1c97f-f0c7-40e7-a36d-636349b4b91c",
   "metadata": {
    "scrolled": true
   },
   "outputs": [
    {
     "name": "stdout",
     "output_type": "stream",
     "text": [
      "Bloque 1 original: 39bee813403b35bd6e3af52ddf002d55\n",
      "Bloque 1 modificado: 6e3d0cc5b83320729b40dc914fbf9252\n"
     ]
    }
   ],
   "source": [
    "# Extraer bloques del ciphertext\n",
    "block0 = ciphertext[0:16]\n",
    "block1 = ciphertext[16:32]\n",
    "block2 = ciphertext[32:48]\n",
    "block3 = ciphertext[48:]\n",
    "\n",
    "# Aplicar máscara al bloque 1\n",
    "block2_modified = bytes(b ^ m for b, m in zip(block2[:12], mask)) + block2[12:]\n",
    "\n",
    "# Reconstruir ciphertext modificado\n",
    "modified_ciphertext = block0 + block1 + block2_modified + block3\n",
    "\n",
    "# Reconstruir mensaje completo\n",
    "modified_encrypted = iv + modified_ciphertext\n",
    "\n",
    "print(f\"Bloque 1 original: {block1.hex()}\")\n",
    "print(f\"Bloque 1 modificado: {block1_modified.hex()}\")"
   ]
  },
  {
   "cell_type": "code",
   "execution_count": 55,
   "id": "60e94ad7-47f0-47a3-9f1c-5118132037bc",
   "metadata": {},
   "outputs": [
    {
     "name": "stdout",
     "output_type": "stream",
     "text": [
      "Mensaje modificado (base64):\n",
      "RQ1Iuk+UtTVfwDqKJr/xNweODUOBVQ6wriQNBmfdD/o5vugTQDs1vW469S3fAC1Vgf0/gPnpZ6BSNX2GKFK9Vu77GghGceLGxVUf6RLDl2E=\n",
      "\n",
      "Longitud total: 80 bytes\n"
     ]
    }
   ],
   "source": [
    "# Reconstruir mensaje completo (IV + ciphertext)\n",
    "modified_encrypted = iv + modified_ciphertext\n",
    "\n",
    "# Codificar en base64\n",
    "modified_b64 = base64.b64encode(modified_encrypted).decode()\n",
    "\n",
    "print(f\"Mensaje modificado (base64):\")\n",
    "print(modified_b64)\n",
    "print(f\"\\nLongitud total: {len(modified_encrypted)} bytes\")"
   ]
  },
  {
   "cell_type": "code",
   "execution_count": 56,
   "id": "574df25a-4172-49e8-ad74-d5c338847de2",
   "metadata": {},
   "outputs": [
    {
     "name": "stdout",
     "output_type": "stream",
     "text": [
      "Status code: 200\n",
      "¡Ganaste!\n",
      "\n"
     ]
    }
   ],
   "source": [
    "challenge_response = requests.post(\n",
    "    f\"https://ciberseguridad.diplomatura.unc.edu.ar/cripto/cbc-bitflip/{YOUR_EMAIL}/answer\",\n",
    "    files = { \"message\":modified_b64}\n",
    ")\n",
    "print(f\"Status code: {challenge_response.status_code}\")\n",
    "print(challenge_response.text)"
   ]
  },
  {
   "cell_type": "code",
   "execution_count": null,
   "id": "52d8349b-5d84-4640-8236-058251e47830",
   "metadata": {},
   "outputs": [],
   "source": []
  }
 ],
 "metadata": {
  "kernelspec": {
   "display_name": "Python 3 (ipykernel)",
   "language": "python",
   "name": "python3"
  },
  "language_info": {
   "codemirror_mode": {
    "name": "ipython",
    "version": 3
   },
   "file_extension": ".py",
   "mimetype": "text/x-python",
   "name": "python",
   "nbconvert_exporter": "python",
   "pygments_lexer": "ipython3",
   "version": "3.13.7"
  }
 },
 "nbformat": 4,
 "nbformat_minor": 5
}
