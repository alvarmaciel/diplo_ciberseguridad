{
 "cells": [
  {
   "cell_type": "code",
   "execution_count": 21,
   "id": "e5733ac4-9e27-4842-bf36-272ae266d851",
   "metadata": {},
   "outputs": [
    {
     "data": {
      "text/plain": [
       "[-1210225942,\n",
       " -1908238811,\n",
       " -106137654,\n",
       " -1281935452,\n",
       " -235120565,\n",
       " -214157664,\n",
       " 642760798,\n",
       " -803876832,\n",
       " -424719337,\n",
       " -67890154]"
      ]
     },
     "execution_count": 21,
     "metadata": {},
     "output_type": "execute_result"
    }
   ],
   "source": [
    "# Primero me voy a hacer el random\n",
    "# random.setSeed(1234567890)\n",
    "MASK = (1 << 48) - 1\n",
    "MULTIPLIER =  0x5DEECE66D \n",
    "INCREMENT = 0xB \n",
    "\n",
    "\n",
    "def set_seed(init_seed: int) -> int:    \n",
    "    return (init_seed ^ MULTIPLIER) & MASK\n",
    "\n",
    "def next_int(seed:int)->int:\n",
    "    nuevo_seed = (seed * MULTIPLIER + INCREMENT) & MASK\n",
    "    value = nuevo_seed >> (48 - 32)\n",
    "    if value >= (1 << 31):\n",
    "        value -= (1 << 32)\n",
    "    return value, nuevo_seed\n",
    "\n",
    "randoms = []\n",
    "seed = set_seed(1234567890)\n",
    "\n",
    "for i in range(10):\n",
    "    num, seed = next_int(seed) \n",
    "    randoms.append(num)\n",
    "\n",
    "randoms"
   ]
  },
  {
   "cell_type": "code",
   "execution_count": 34,
   "id": "a40f98c4-ea54-4462-8a9f-0f30a26217e3",
   "metadata": {},
   "outputs": [],
   "source": [
    "# Ahora hay que hacer la inversa a partir de dos numeros consecutivos para calcular el 3ro\n",
    "def get_a_value_from_challnge():\n",
    "    server = \"https://ciberseguridad.diplomatura.unc.edu.ar/cripto\"\n",
    "    email = \"alvarmaciel@gmail.com\"\n",
    "    response =  requests.get(f\"{server}/javarand/{email}/challenge\")\n",
    "    return int(response.text)\n"
   ]
  },
  {
   "cell_type": "code",
   "execution_count": 45,
   "id": "2e89a9ff-e9cb-45a5-90b0-69138753e190",
   "metadata": {},
   "outputs": [
    {
     "name": "stdout",
     "output_type": "stream",
     "text": [
      "-138896550\n",
      "1665700463\n"
     ]
    }
   ],
   "source": [
    "import requests\n",
    "def to_unsigned(x):\n",
    "    return x & 0xFFFFFFFF\n",
    "current_value_1 = get_a_value_from_challnge()\n",
    "current_value_2 = get_a_value_from_challnge()\n",
    "\n",
    "print(current_value_1)\n",
    "print(current_value_2)\n",
    "nro_1 = to_unsigned(current_value_1)\n",
    "nro_2 = to_unsigned(current_value_2)"
   ]
  },
  {
   "cell_type": "code",
   "execution_count": 46,
   "id": "dd49a8c5-3316-4063-9d60-767a65375b1f",
   "metadata": {},
   "outputs": [
    {
     "name": "stdout",
     "output_type": "stream",
     "text": [
      "4156070746\n",
      "1665700463\n",
      "<class 'int'>\n",
      "<class 'int'>\n",
      "272372252418714\n",
      "Siguiente Nro: 1147867968\n"
     ]
    }
   ],
   "source": [
    "print(nro_1)\n",
    "print(nro_2)\n",
    "print(type(nro_1))\n",
    "print(type(nro_2))\n",
    "guessed_seed = 0\n",
    "for guess in range((1<<16)):\n",
    "    seed1_candidato = (nro_1 << 16) | guess\n",
    "    seed2 = (seed1_candidato * MULTIPLIER + INCREMENT) & MASK\n",
    "    if (seed2 >> 16) == nro_2:\n",
    "        guessed_seed = seed1_candidato\n",
    "        break\n",
    "print(guessed_seed)\n",
    "n2, seed2 = next_int(guessed_seed)\n",
    "n3, seed3 = next_int(seed2)\n",
    "print(f\"Siguiente Nro: {n3}\")"
   ]
  },
  {
   "cell_type": "code",
   "execution_count": 47,
   "id": "3423b80a-f0ec-4ab7-ae47-bee817af5a12",
   "metadata": {},
   "outputs": [
    {
     "name": "stdout",
     "output_type": "stream",
     "text": [
      "Status code: 200\n",
      "¡Ganaste!\n",
      "\n"
     ]
    }
   ],
   "source": [
    "response = requests.post(\n",
    "    f\"{server}/javarand/{email}/answer\",\n",
    "    files = { \"number\": str(n3).encode('ascii')}\n",
    ")\n",
    "print(f\"Status code: {response.status_code}\")\n",
    "print(response.text)"
   ]
  },
  {
   "cell_type": "code",
   "execution_count": null,
   "id": "5aa6a507-476b-45a7-99ce-954da20947d0",
   "metadata": {},
   "outputs": [],
   "source": []
  }
 ],
 "metadata": {
  "kernelspec": {
   "display_name": "Python 3 (ipykernel)",
   "language": "python",
   "name": "python3"
  },
  "language_info": {
   "codemirror_mode": {
    "name": "ipython",
    "version": 3
   },
   "file_extension": ".py",
   "mimetype": "text/x-python",
   "name": "python",
   "nbconvert_exporter": "python",
   "pygments_lexer": "ipython3",
   "version": "3.12.3"
  }
 },
 "nbformat": 4,
 "nbformat_minor": 5
}
