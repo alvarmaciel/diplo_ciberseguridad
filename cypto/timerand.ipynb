{
 "cells": [
  {
   "cell_type": "code",
   "execution_count": 1,
   "id": "77a9900f-b374-43bc-84af-766a5bc73679",
   "metadata": {},
   "outputs": [
    {
     "data": {
      "text/plain": [
       "b'lofJjow1dF3AEB6nDc9vytNe+jC5mLM4/iRUVBy/sZ3JaLFNMK3eCwQpyk0uQQhs/PlTa01ay0N5qoUIquQ6sEXZ2gkM9iymE7FlHljOnAf4pVuEUe75TkAW0faMeIFJ1zo/hXRydvDW0P7s1nKqPjfh2+IfiXWaQ+HkHC0GmOwnMBFlbq88ZIKUUEhRD6YdAULRZajOiS5PVqXY9gEfiBJI7NI0nq1PkOnoMG9+t+Sl2kr2NgzEEDnCaQjYfrbb'"
      ]
     },
     "execution_count": 1,
     "metadata": {},
     "output_type": "execute_result"
    }
   ],
   "source": [
    "import time\n",
    "import base64\n",
    "from hashlib import md5\n",
    "from cryptography.hazmat.primitives.ciphers import Cipher, algorithms, modes\n",
    "from cryptography.hazmat.primitives.asymmetric import rsa, padding as asymmetric_padding\n",
    "from cryptography.hazmat.primitives import serialization, hashes, padding as symmetric_padding\n",
    "from cryptography.hazmat.backends import default_backend  \n",
    "\n",
    "def generate_challenge(message, public_key):\n",
    "    # Obtenemos el tiempo en microsegundos\n",
    "    now = int(time.time()*1000000)\n",
    "    # Este es un mal mecanismo para generar una clave\n",
    "    key_seed = now.to_bytes(8,\"big\")\n",
    "    key = md5(key_seed).digest()\n",
    "    # Este es un mal mecanismo para generar un IV\n",
    "    iv_seed = (now+1).to_bytes(8,\"big\")\n",
    "    iv = md5(iv_seed).digest()\n",
    "    # Ciframos el mensaje con AES-128 usando la clave `key`\n",
    "    # Obtenemos una instancia del cifrador\n",
    "    cipher = Cipher(algorithms.AES(key), modes.CBC(iv), backend=default_backend())\n",
    "    encryptor = cipher.encryptor()\n",
    "    # Usamos PKCS7 como mecanismo de relleno\n",
    "    padder = symmetric_padding.PKCS7(128).padder()\n",
    "    padded = padder.update(message) + padder.finalize()\n",
    "    # Ciframos\n",
    "    ciphertext = encryptor.update(padded) + encryptor.finalize()\n",
    "    # Ciframos la clave secreta con la clave pública del destinatario\n",
    "    encrypted_key = public_key.encrypt(\n",
    "        key,\n",
    "        asymmetric_padding.OAEP(\n",
    "            mgf=asymmetric_padding.MGF1(algorithm=hashes.SHA256()),\n",
    "            algorithm=hashes.SHA256(),\n",
    "            label=None\n",
    "        )\n",
    "    )\n",
    "    assert(len(encrypted_key) == 128)\n",
    "    # El desafío está compuesto por la clave cifrada, el iv y el texto cifrado\n",
    "    return base64.b64encode(encrypted_key + iv + ciphertext)\n",
    "\n",
    "# Clave pública serializada\n",
    "pem = b'-----BEGIN PUBLIC KEY-----\\nMIGfMA0GCSqGSIb3DQEBAQUAA4GNADCBiQKBgQDIgCvlphhRoOt39+rBUxdqrivb\\nxVdYmlGXkT/5mO6/fwYzA/yXeg1aKEIj1f1l1yXWecN0iYrDUflwyN5aMj6nH+zW\\nYfMOVhp2seFya10vXA24UX5o5Ei7JLcnf1ubO3VfH4Fttcvvy27Qmkii3uedOTFi\\nZtZn/U1dhm1rYhtrPwIDAQAB\\n-----END PUBLIC KEY-----\\n'\n",
    "message = b\"Este es el texto claro del mensaje\"\n",
    "# Deserializamos la clave pública\n",
    "public_key = serialization.load_pem_public_key(pem)\n",
    "\n",
    "generate_challenge(message, public_key)"
   ]
  },
  {
   "cell_type": "code",
   "execution_count": null,
   "id": "e30cbb6f-904f-437c-b6f7-f133d81ac004",
   "metadata": {},
   "outputs": [],
   "source": []
  }
 ],
 "metadata": {
  "kernelspec": {
   "display_name": "Python 3 (ipykernel)",
   "language": "python",
   "name": "python3"
  },
  "language_info": {
   "codemirror_mode": {
    "name": "ipython",
    "version": 3
   },
   "file_extension": ".py",
   "mimetype": "text/x-python",
   "name": "python",
   "nbconvert_exporter": "python",
   "pygments_lexer": "ipython3",
   "version": "3.13.7"
  }
 },
 "nbformat": 4,
 "nbformat_minor": 5
}
