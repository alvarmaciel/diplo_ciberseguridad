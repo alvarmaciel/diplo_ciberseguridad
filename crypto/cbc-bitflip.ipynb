{
 "cells": [
  {
   "cell_type": "code",
   "execution_count": 22,
   "id": "2e47cfe5-c26c-40bc-a37d-05c210c482a8",
   "metadata": {},
   "outputs": [
    {
     "name": "stdout",
     "output_type": "stream",
     "text": [
      "URL configurada: https://ciberseguridad.diplomatura.unc.edu.ar/cripto/cbc-bitflip/alvarmaciel@gmail.com/register\n"
     ]
    }
   ],
   "source": [
    "import requests\n",
    "import base64\n",
    "from typing import Tuple\n",
    "\n",
    "YOUR_EMAIL = \"alvarmaciel@gmail.com\"\n",
    "\n",
    "# URL base del desafío\n",
    "BASE_URL = f\"https://ciberseguridad.diplomatura.unc.edu.ar/cripto/cbc-bitflip/{YOUR_EMAIL}/register\"\n",
    "\n",
    "print(f\"URL configurada: {BASE_URL}\")"
   ]
  },
  {
   "cell_type": "code",
   "execution_count": 23,
   "id": "837d4650-c2c2-4f68-8f7c-18a12998d808",
   "metadata": {},
   "outputs": [
    {
     "name": "stdout",
     "output_type": "stream",
     "text": [
      "Funciones auxiliares definidas.\n"
     ]
    }
   ],
   "source": [
    "def register_user(email: str, data: str) -> bytes:\n",
    "    \"\"\"\n",
    "    Registra un usuario y obtiene el perfil cifrado.\n",
    "    \n",
    "    Args:\n",
    "        email: Dirección de correo\n",
    "        data: Datos adicionales (sin ; ni =)\n",
    "    \n",
    "    Returns:\n",
    "        Bytes del IV + ciphertext\n",
    "    \"\"\"\n",
    "    # Codificar data en base64\n",
    "    data_b64 = base64.b64encode(data.encode()).decode()\n",
    "    \n",
    "    # Hacer POST request\n",
    "    response = requests.post(\n",
    "        BASE_URL,\n",
    "        files={\n",
    "            'email': email,\n",
    "            'data': data_b64\n",
    "        }\n",
    "    )\n",
    "    \n",
    "    if response.status_code != 200:\n",
    "        raise Exception(f\"Error en la petición: {response.status_code}\\n{response.text}\")\n",
    "    \n",
    "    # Decodificar respuesta base64\n",
    "    encrypted_profile = base64.b64decode(response.text.strip())\n",
    "    \n",
    "    return encrypted_profile\n",
    "\n",
    "def split_iv_ciphertext(encrypted: bytes) -> Tuple[bytes, bytes]:\n",
    "    \"\"\"\n",
    "    Separa el IV (primeros 16 bytes) del ciphertext.\n",
    "    \"\"\"\n",
    "    iv = encrypted[:16]\n",
    "    ciphertext = encrypted[16:]\n",
    "    return iv, ciphertext\n",
    "\n",
    "def visualize_blocks(data: bytes, block_size: int = 16) -> None:\n",
    "    \"\"\"\n",
    "    Visualiza los bloques de datos.\n",
    "    \"\"\"\n",
    "    for i in range(0, len(data), block_size):\n",
    "        block = data[i:i+block_size]\n",
    "        print(f\"Bloque {i//block_size}: {block.hex()} ({len(block)} bytes)\")\n",
    "\n",
    "print(\"Funciones auxiliares definidas.\")"
   ]
  },
  {
   "cell_type": "code",
   "execution_count": 54,
   "id": "f1328db4-a55f-4567-a9e9-ba87eb036545",
   "metadata": {},
   "outputs": [
    {
     "name": "stdout",
     "output_type": "stream",
     "text": [
      "Registrando usuario: test@example.com\n",
      "Con datos: TestData\n",
      "\n",
      "Perfil esperado (plaintext): user=test@example.com;data=TestData;role=user\n",
      "\n",
      "--- Bloques a encriptar ---\n",
      "Bloque 0: user=test@exampl (16 bytes)\n",
      "Bloque 1: e.com;data=TestD (16 bytes)\n",
      "Bloque 2: ata;role=user (13 bytes)\n",
      "Longitud: 45 bytes\n",
      "\n",
      "Perfil cifrado recibido: 64 bytes\n",
      "Perfil: b'T\\x1c\\xeaQG)\\x9dq\\x97\\xaa\\x0e0\\xd5\\xe8\\xe1\\x8bv\\xd4\\xbd\\x15L\\x970\\xba\\x0b\\xb0\\xee\\xec\\xf5\\x1c\\xf1\\x03\\xd4|?\\xe5H~mnt\\xae\\xc0\\x94\\xe2\\xb0B\\x95\\xc7Yi\\x05\\xcf\\x13,_\\xc2\\x13\\t\\x93>F\\x91<'\n",
      "\n",
      "IV (16 bytes): 541cea5147299d7197aa0e30d5e8e18b\n",
      "Ciphertext (48 bytes):\n",
      "Bloque 0: 76d4bd154c9730ba0bb0eeecf51cf103 (16 bytes)\n",
      "Bloque 1: d47c3fe5487e6d6e74aec094e2b04295 (16 bytes)\n",
      "Bloque 2: c7596905cf132c5fc21309933e46913c (16 bytes)\n"
     ]
    }
   ],
   "source": [
    "# Probemos con un email y datos simples para entender la estructura\n",
    "test_email = \"test@example.com\"\n",
    "test_data = \"TestData\"\n",
    "\n",
    "print(f\"Registrando usuario: {test_email}\")\n",
    "print(f\"Con datos: {test_data}\")\n",
    "print()\n",
    "\n",
    "# El perfil resultante será:\n",
    "expected_profile = f\"user={test_email};data={test_data};role=user\"\n",
    "print(f\"Perfil esperado (plaintext): {expected_profile}\")\n",
    "\n",
    "print(\"\\n--- Bloques a encriptar ---\")\n",
    "\n",
    "for i in range(0, len(expected_profile),16):\n",
    "    \n",
    "    block=expected_profile[i:i+16]\n",
    "    print(f\"Bloque {i//16}: {block} ({len(block)} bytes)\")\n",
    "    \n",
    "print(f\"Longitud: {len(expected_profile)} bytes\")\n",
    "print()\n",
    "\n",
    "# Obtener el perfil cifrado\n",
    "encrypted = register_user(test_email, test_data)\n",
    "print(f\"Perfil cifrado recibido: {len(encrypted)} bytes\")\n",
    "print(f\"Perfil: {encrypted}\")\n",
    "\n",
    "# Separar IV y ciphertext\n",
    "iv, ciphertext = split_iv_ciphertext(encrypted)\n",
    "print(f\"\\nIV ({len(iv)} bytes): {iv.hex()}\")\n",
    "print(f\"Ciphertext ({len(ciphertext)} bytes):\")\n",
    "visualize_blocks(ciphertext)"
   ]
  },
  {
   "cell_type": "code",
   "execution_count": 55,
   "id": "7c166f4d-17f0-41e1-849e-4b21941d742f",
   "metadata": {},
   "outputs": [
    {
     "name": "stdout",
     "output_type": "stream",
     "text": [
      "Información del perfil:\n",
      "  profile: user=test@example.com;data=TestData;role=user\n",
      "  length: 45\n",
      "  role_start: 36\n",
      "  user_start: 41\n",
      "  user_block: 2\n",
      "  user_offset: 9\n",
      "\n",
      "Bloques del plaintext (esperado):\n",
      "Bloque 0: 757365723d74657374406578616d706c (16 bytes)\n",
      "Bloque 1: 652e636f6d3b646174613d5465737444 (16 bytes)\n",
      "Bloque 2: 6174613b726f6c653d75736572 (13 bytes)\n"
     ]
    }
   ],
   "source": [
    "# Calculemos las posiciones\n",
    "# Formato: user=<email>;data=<datos>;role=user\n",
    "\n",
    "def calculate_positions(email: str, data: str) -> dict:\n",
    "    \"\"\"\n",
    "    Calcula las posiciones de cada parte del perfil.\n",
    "    \"\"\"\n",
    "    profile = f\"user={email};data={data};role=user\"\n",
    "    \n",
    "    role_start = profile.index(\"role=\")\n",
    "    user_start = profile.index(\"user\", role_start)  # El 'user' después de 'role='\n",
    "    \n",
    "    return {\n",
    "        'profile': profile,\n",
    "        'length': len(profile),\n",
    "        'role_start': role_start,\n",
    "        'user_start': user_start,\n",
    "        'user_block': user_start // 16,\n",
    "        'user_offset': user_start % 16 # Posición relativa donde comienza user\n",
    "    }\n",
    "\n",
    "# Ejemplo\n",
    "info = calculate_positions(test_email, test_data)\n",
    "print(\"Información del perfil:\")\n",
    "for key, value in info.items():\n",
    "    print(f\"  {key}: {value}\")\n",
    "\n",
    "# Visualizar bloques del plaintext\n",
    "print(\"\\nBloques del plaintext (esperado):\")\n",
    "plaintext_bytes = info['profile'].encode()\n",
    "visualize_blocks(plaintext_bytes)"
   ]
  },
  {
   "cell_type": "code",
   "execution_count": 56,
   "id": "63fef8a3-71ea-4e41-bcc5-1eecd4a62600",
   "metadata": {},
   "outputs": [
    {
     "data": {
      "text/plain": [
       "b'\\x00\\x00\\x00\\x00\\x00\\x14\\x17\\x08\\x1b'"
      ]
     },
     "execution_count": 56,
     "metadata": {},
     "output_type": "execute_result"
    }
   ],
   "source": [
    "original = b'role=user'\n",
    "target = b'role=admin'\n",
    "mask = bytes(a ^ b for a, b in zip(original, target))\n",
    "mask"
   ]
  },
  {
   "cell_type": "code",
   "execution_count": 64,
   "id": "1cc1c97f-f0c7-40e7-a36d-636349b4b91c",
   "metadata": {},
   "outputs": [],
   "source": [
    "modified_blocks = bytearray(ciphertext)\n",
    "role_start = info[\"role_start\"]\n",
    "role_block_index = info[\"user_block\"]\n",
    "\n",
    "# Necesitas modificar 9 bytes del bloque anterior\n",
    "start_pos = role_start\n",
    "end_pos = role_start + len(mask)\n",
    "modified_blocks[start_pos:end_pos] = bytes(\n",
    "    a ^ b for a, b in zip(modified_blocks[start_pos:end_pos], mask)\n",
    ")\n",
    "modifyed_cypher = iv + bytes(modified_blocks)\n",
    "modified_encypted = base64.b64encode(modified_cypher).decode()"
   ]
  },
  {
   "cell_type": "code",
   "execution_count": 65,
   "id": "574df25a-4172-49e8-ad74-d5c338847de2",
   "metadata": {},
   "outputs": [
    {
     "name": "stdout",
     "output_type": "stream",
     "text": [
      "Status code: 200\n",
      "Lo siento, siga participando.\n",
      "\n"
     ]
    }
   ],
   "source": [
    "challenge_response = requests.post(\n",
    "    f\"https://ciberseguridad.diplomatura.unc.edu.ar/cripto/cbc-bitflip/{YOUR_EMAIL}/answer\",\n",
    "    files = { \"message\":modifyed_encrypted}\n",
    ")\n",
    "print(f\"Status code: {challenge_response.status_code}\")\n",
    "print(challenge_response.text)"
   ]
  },
  {
   "cell_type": "code",
   "execution_count": null,
   "id": "52d8349b-5d84-4640-8236-058251e47830",
   "metadata": {},
   "outputs": [],
   "source": []
  }
 ],
 "metadata": {
  "kernelspec": {
   "display_name": "Python 3 (ipykernel)",
   "language": "python",
   "name": "python3"
  },
  "language_info": {
   "codemirror_mode": {
    "name": "ipython",
    "version": 3
   },
   "file_extension": ".py",
   "mimetype": "text/x-python",
   "name": "python",
   "nbconvert_exporter": "python",
   "pygments_lexer": "ipython3",
   "version": "3.13.7"
  }
 },
 "nbformat": 4,
 "nbformat_minor": 5
}
