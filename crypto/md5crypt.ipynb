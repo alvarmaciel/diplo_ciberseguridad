{
 "cells": [
  {
   "cell_type": "markdown",
   "id": "1f40a81e-0dd0-47f1-8c26-ab8cd45c5eb3",
   "metadata": {},
   "source": [
    "# md5cypto\n",
    "Voy a reescribir el algoritomo en python para poder obtener un mensaje de prueba donde conzca todas las variables.\n",
    "\n",
    "## Librerias y recursos que me sirvieron\n",
    "- https://docs.python.org/3/library/hashlib.html\n",
    "- https://docs.python.org/3/library/base64.html#base64.b64decode"
   ]
  },
  {
   "cell_type": "code",
   "execution_count": 1,
   "id": "d7849f3b-cfa8-4e94-aae0-4c7b8bce6fe6",
   "metadata": {},
   "outputs": [],
   "source": [
    "import hashlib\n",
    "import base64\n",
    "import requests\n",
    "response = requests.get(url=\"https://ciberseguridad.diplomatura.unc.edu.ar/cripto/md5crypt/alvarmaciel@gmail.com/challenge\")\n",
    "encoded_text = response.text\n",
    "\n",
    "# El plan es generar un texto encodeado con una version de la librería y decodearlo\n",
    "plaintext = b\"Hola tu@email.com\"\n",
    "key = b\"12345\"\n",
    "# No se si hacerlo en bytes o en hex, creo que es lo mesmo. Lo hago en ambos para asegurarme\n"
   ]
  },
  {
   "cell_type": "code",
   "execution_count": 60,
   "id": "9a3d947d-3398-48b6-a85c-c1dd4b2b1157",
   "metadata": {},
   "outputs": [],
   "source": [
    "def encrypt(plaintext:bytes) -> bytearray: #Saco la key para pasarla en un segundo momento\n",
    "    encrypt_key_plain = b\"1234\" # Por ahora uso un valor definido para probar. EL nombre es horrible\n",
    "    encrypt_key_hex = hashlib.md5(encrypt_key_plain).hexdigest()\n",
    "    primer_pasada=bytearray()\n",
    "    for i, c in enumerate(plaintext): # uso enumerate para generar el contador\n",
    "        counter = encrypt_key_hex[i % len(encrypt_key_hex)] # contador vuelve a 0 con el largo de la clave\n",
    "        primer_pasada.append(ord(counter))\n",
    "        primer_pasada.append(ord(counter) ^ c)\n",
    "    return primer_pasada\n"
   ]
  },
  {
   "cell_type": "code",
   "execution_count": 61,
   "id": "5ad3a85e-567e-477a-ae5c-b0cc132d1b8e",
   "metadata": {},
   "outputs": [],
   "source": [
    "# segunda pasada, acá key es la clave externa\n",
    "def key_ed(primer_pasada: bytes, key: bytes) -> bytearray: \n",
    "    key_md5 = hashlib.md5(key).hexdigest()\n",
    "    encrypted = bytearray()\n",
    "\n",
    "    for i, b in enumerate(primer_pasada):\n",
    "        encrypted.append(b ^ ord(key_md5[i % len(key_md5)]))\n",
    "    return base64.b64encode(encrypted).decode()\n"
   ]
  },
  {
   "cell_type": "code",
   "execution_count": 62,
   "id": "9293828f-df78-41f5-b5bf-863c644a3d63",
   "metadata": {},
   "outputs": [
    {
     "name": "stdout",
     "output_type": "stream",
     "text": [
      "bytearray(b'8p1^d\\x08c\\x029\\x19b\\x16d\\x11b\"5P2_d\\x050Y4XdJc\\x002]0]')\n"
     ]
    },
    {
     "data": {
      "text/plain": [
       "'3870315e6408630239196216641162223550325f640530593458644a6300325d305d'"
      ]
     },
     "execution_count": 62,
     "metadata": {},
     "output_type": "execute_result"
    }
   ],
   "source": [
    "primer_pasada = encrypt(plaintext)\n",
    "# Chequeo que sea el doble\n",
    "assert len(primer_pasada) == len(plaintext)*2\n",
    "print(primer_pasada)\n",
    "bytearray.hex(primer_pasada)"
   ]
  },
  {
   "cell_type": "code",
   "execution_count": 63,
   "id": "5aff0879-765b-4e17-a495-25dd6815dcb1",
   "metadata": {},
   "outputs": [
    {
     "name": "stdout",
     "output_type": "stream",
     "text": [
      "0042063d076a53675c785a77532154410133016b053406610d6902725765053f086f\n",
      "b'\\x00B\\x06=\\x07jSg\\\\xZwS!TA\\x013\\x01k\\x054\\x06a\\ri\\x02rWe\\x05?\\x08o'\n",
      "AEIGPQdqU2dceFp3UyFUQQEzAWsFNAZhDWkCcldlBT8Ibw==\n"
     ]
    }
   ],
   "source": [
    "# segunda pasada el xor con la clave externa\n",
    "encrypted_message = key_ed(primer_pasada, key)\n",
    "print(bytes.hex(base64.b64decode(encrypted_message)))\n",
    "print(base64.b64decode(encrypted_message))\n",
    "print(encrypted_message)"
   ]
  },
  {
   "cell_type": "code",
   "execution_count": 2,
   "id": "5ffcbaab-dcdb-4f02-a713-2a63e0103fd6",
   "metadata": {},
   "outputs": [
    {
     "name": "stdout",
     "output_type": "stream",
     "text": [
      "358\n",
      "00656a21376225302369626639626c17336731683a20303e3c0e45773f6a3a7701793573763226223476436028666d27386f7e6239636d5b126b6d713569747a207320646c2e273429702c753c666939782a3369377c203425397671362a385d106b24646c2e04343528233465274a223a2a6231643c7363623e30356a3239777f3a603166040024336e6666243d200531307050236127345b47603f70527332262a6c74256b2111347c6268206b657937653d3f7a2e39353e61436028666d27386f7e623963595b7f2a2d25276f6539746c3975252e3c3771677160317369213d7e2921247b3d712270716a3e602c7739652264767a3b303f246c6b352770253b6d22603b633623716b71252775692331785a69377d733334616d253b696f203a2a246e766f31303f606c6b70736832746e35723d7a3c2171626c777073683274673f73332e202130676a6a2574203138653f7378045a587c2923432262647716783f6e3d7d\n"
     ]
    }
   ],
   "source": [
    "# Remove internal encrypted_key\n",
    "# byte_message = encrypted_message.encode()\n",
    "b64_decoded_message = base64.b64decode(encoded_text)\n",
    "pares = b64_decoded_message[0::2]\n",
    "impares = b64_decoded_message[1::2]\n",
    "remove_internal_key = bytearray(par ^ impar for par, impar in zip(pares, impares))\n",
    "print(len(remove_internal_key)) # Tiene que ser 17\n",
    "print(bytearray.hex(remove_internal_key))"
   ]
  },
  {
   "cell_type": "code",
   "execution_count": 3,
   "id": "22860423-5ad4-44ab-a906-09c0c0da2b75",
   "metadata": {},
   "outputs": [],
   "source": [
    "\n",
    "key_candidates = set(range(48, 58)) | set(range(97, 103))\n",
    "texto_conocido= \"alvarmaciel@gmail.com\"\n",
    "largo = len(texto_conocido)\n",
    "primer_letra = texto_conocido[0]\n"
   ]
  },
  {
   "cell_type": "code",
   "execution_count": 15,
   "id": "12efa2b7-51f6-4b91-bf8c-401b4e2c3803",
   "metadata": {},
   "outputs": [],
   "source": [
    "def buscar_offsets_candidatos(remove_internal_key, texto_conocdido):\n",
    "    valores_validos = [ord(c) for c in \"0123456789abcdef\"]\n",
    "    deltas_validos = [a ^ b for a in valores_validos for b in valores_validos]\n",
    "    periodo = 16\n",
    "    \n",
    "    candidatos = []\n",
    "    \n",
    "    for offset in range(periodo):\n",
    "        deltas = [None] * periodo\n",
    "        valido = True\n",
    "\n",
    "        # loop para cada letra del texto conocido\n",
    "        for j, ch in enumerate(texto_conocdido):\n",
    "            i = offset + j\n",
    "            if i >= len(remove_internal_key):\n",
    "                break\n",
    "\n",
    "            p = ord(ch) # byte claro esperado\n",
    "            d = remove_internal_key[i] ^ p\n",
    "            k = i % periodo\n",
    "\n",
    "            # Validadción\n",
    "            if d not in deltas_validos:\n",
    "                valido = False\n",
    "                break # me muevo al siguiente valor dentro dle periodo\n",
    "            if deltas[k] is not None and deltas[k] != d:\n",
    "                valido=False\n",
    "                break\n",
    "            deltas[k] = d\n",
    "\n",
    "        if valido:\n",
    "            candidatos.append((offset, deltas))\n",
    "    return candidatos\n"
   ]
  },
  {
   "cell_type": "code",
   "execution_count": 17,
   "id": "f10f4a4a-9eda-4df0-bffa-a4f5b177fe23",
   "metadata": {},
   "outputs": [
    {
     "data": {
      "text/plain": [
       "[(4, [84, 10, 80, 1, 86, 14, 83, 81, 81, 4, 3, 5, 80, 7, 0, 87])]"
      ]
     },
     "execution_count": 17,
     "metadata": {},
     "output_type": "execute_result"
    }
   ],
   "source": [
    "decode_offset_deltas = buscar_offsets_candidatos(remove_internal_key, texto_conocido)\n",
    "decode_offset_deltas"
   ]
  },
  {
   "cell_type": "code",
   "execution_count": 21,
   "id": "adcdfe57-d832-469f-a8e2-524357b1e1ce",
   "metadata": {},
   "outputs": [],
   "source": [
    "def recover_paintext_partial(remove_internal_key, deltas):\n",
    "    out = bytearray()\n",
    "    for i, r in enumerate(recover_paintext_partial):\n",
    "        d = deltas[i % 16]\n",
    "        if d is None:\n",
    "            out.append(0x3f)\n",
    "        else:\n",
    "            out.append(r ^ d)\n",
    "    return out"
   ]
  },
  {
   "cell_type": "code",
   "execution_count": 27,
   "id": "3211e3be-13d9-4655-82d0-ff26d0941b34",
   "metadata": {},
   "outputs": [
    {
     "name": "stdout",
     "output_type": "stream",
     "text": [
      "To: alvarmaciel@gmail.com\n",
      "From: User <user@example.com>\n",
      "Content-type: text/plain, charset=utf-8\n",
      "Date: Wed, 15 Jun 2022 23:30:59 +0000\n",
      "Subject: Re: Quote\n",
      "Cc: User <user@example.com>, jdoe@example.com\n",
      "\n",
      "... when fits of creativity run strong, more than one programmer or writer\n",
      "has been known to abandon the desktop for the more spacious floor.\n",
      "\t\t-- Fred Brooks\n"
     ]
    }
   ],
   "source": [
    "deltas = decode_offset_deltas[0][1]\n",
    "print(recover_paintext_partial(remove_internal_key, deltas).decode('utf-8'))"
   ]
  },
  {
   "cell_type": "code",
   "execution_count": 89,
   "id": "f3900a45-c5bb-4c8b-9456-1ff3367d497c",
   "metadata": {},
   "outputs": [
    {
     "name": "stdout",
     "output_type": "stream",
     "text": [
      "Código de estado: 200\n",
      "Respuesta: ¡Ganaste!\n",
      "\n"
     ]
    }
   ],
   "source": [
    "# url = \"https://ciberseguridad.diplomatura.unc.edu.ar/cripto/md5crypt/alvarmaciel@gmail.com/answer\"\n",
    "\n",
    "# with open('message.txt', 'rb') as archivo:\n",
    "#     files = {'message': ('message.txt', archivo, 'text/plain')}\n",
    "#     response = requests.post(url, files=files)\n",
    "\n",
    "# # Verificar la respuesta\n",
    "# print(f\"Código de estado: {response.status_code}\")\n",
    "# print(f\"Respuesta: {response.text}\")"
   ]
  },
  {
   "cell_type": "code",
   "execution_count": 98,
   "id": "92922461-e785-481d-892e-7d8003c35897",
   "metadata": {},
   "outputs": [
    {
     "name": "stdout",
     "output_type": "stream",
     "text": [
      "[48, 49, 50, 51, 52, 53, 54, 55, 56, 57, 97, 98, 99, 100, 101, 102]\n"
     ]
    }
   ],
   "source": [
    "HEX_ASCII = [ord(c) for c in \"0123456789abcdef\"]\n",
    "valores_validos = set(range(48, 58)) | set(range(97, 103))\n",
    "print(HEX_ASCII)"
   ]
  },
  {
   "cell_type": "code",
   "execution_count": 99,
   "id": "e025af30-2ad6-4adb-9866-2d0d666245a8",
   "metadata": {},
   "outputs": [
    {
     "name": "stdout",
     "output_type": "stream",
     "text": [
      "{97, 98, 99, 100, 101, 102, 48, 49, 50, 51, 52, 53, 54, 55, 56, 57}\n"
     ]
    }
   ],
   "source": [
    "print(valores_validos)"
   ]
  },
  {
   "cell_type": "code",
   "execution_count": null,
   "id": "e06a9c02-d8ce-4958-84fa-49bad06a0b1c",
   "metadata": {},
   "outputs": [],
   "source": []
  }
 ],
 "metadata": {
  "kernelspec": {
   "display_name": "Python 3 (ipykernel)",
   "language": "python",
   "name": "python3"
  },
  "language_info": {
   "codemirror_mode": {
    "name": "ipython",
    "version": 3
   },
   "file_extension": ".py",
   "mimetype": "text/x-python",
   "name": "python",
   "nbconvert_exporter": "python",
   "pygments_lexer": "ipython3",
   "version": "3.12.7"
  }
 },
 "nbformat": 4,
 "nbformat_minor": 5
}
