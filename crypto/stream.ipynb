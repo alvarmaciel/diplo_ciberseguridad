{
 "cells": [
  {
   "cell_type": "markdown",
   "id": "3b5df7ce-28d3-445f-9680-42792a752d23",
   "metadata": {},
   "source": [
    "# Secuencia cifrante repetida\n",
    "En este desafío, el servidor proporciona 5 textos cifrados con un algoritmo de cifrado de flujo (no importa cual). De ellos, tres están cifrados con la misma secuencia cifrante.\n",
    "\n",
    "El desafío es descifrarlos y encontrar la secuencia cifrante.\n",
    "\n",
    "Los textos claros cifrados con la secuencia cifrante repetida tienen las siguientes características.\n",
    "\n",
    "- Están compuestos por caracteres ASCII imprimibles, sin espacios en blanco ni fines de línea. Esto implica que sus códigos están entre 33 y 126 inclusive.\n",
    "- Dos textos están compuestos por repeticiones de un mismo carácter. Por ejemplo, “AAAAAAAAAAAAAA” o “))))))))))))))))))))”\n",
    "- Todos los textos tienen la misma longitud.\n",
    "- Uno de los textos es la representación decimal de un número par. Por ejemplo “12345678”\n"
   ]
  },
  {
   "cell_type": "code",
   "execution_count": 1,
   "id": "a1a6f618-ea82-42ed-b42c-2df38baa6d1b",
   "metadata": {},
   "outputs": [],
   "source": [
    "import requests\n",
    "SERVER = \"https://ciberseguridad.diplomatura.unc.edu.ar/cripto\"\n",
    "EMAIL = \"alvarmaciel@gmail.com\"\n",
    "def get_challenge(challenge:str) -> str:\n",
    "    response =  requests.get(f\"{SERVER}/{challenge}/{EMAIL}/challenge\")\n",
    "    return response.text"
   ]
  },
  {
   "cell_type": "code",
   "execution_count": 2,
   "id": "6aa924ed-22e8-4908-b492-70fde192dc7d",
   "metadata": {},
   "outputs": [
    {
     "data": {
      "text/plain": [
       "'4VluHfGVZFTlRqOUmpqAxlEdXpjNtZkxatb92vPEneQ4XmrxBtNj\\nlC8aaY/kEyaQNNTm6uv+tyZiIeq7wOhOFaCNqYO74ppJKB+AdKEQ\\nCtDsovCyOSvbuVmL+ec/aD2GMMMH7f910tqcdvkVG7n0gn81OoQq\\n9hf0bffuygjWcfDM5mprG4ex2I3Lx7CLzHsWV+8mn2wvTML0QJcT\\niTEGdZn9DDyNLsv88vLorjl1NvCl3fFZAr6Vspus9YxQNgKZbrsL\\n'"
      ]
     },
     "execution_count": 2,
     "metadata": {},
     "output_type": "execute_result"
    }
   ],
   "source": [
    "raw_challenge = get_challenge(\"stream\")\n",
    "raw_challenge"
   ]
  },
  {
   "cell_type": "code",
   "execution_count": 3,
   "id": "8e3e5164-1bcb-4198-bf3a-b22e464e1cbb",
   "metadata": {},
   "outputs": [
    {
     "data": {
      "text/plain": [
       "[b'\\xe1Yn\\x1d\\xf1\\x95dT\\xe5F\\xa3\\x94\\x9a\\x9a\\x80\\xc6Q\\x1d^\\x98\\xcd\\xb5\\x991j\\xd6\\xfd\\xda\\xf3\\xc4\\x9d\\xe48^j\\xf1\\x06\\xd3c',\n",
       " b'\\x94/\\x1ai\\x8f\\xe4\\x13&\\x904\\xd4\\xe6\\xea\\xeb\\xfe\\xb7&b!\\xea\\xbb\\xc0\\xe8N\\x15\\xa0\\x8d\\xa9\\x83\\xbb\\xe2\\x9aI(\\x1f\\x80t\\xa1\\x10',\n",
       " b'\\n\\xd0\\xec\\xa2\\xf0\\xb29+\\xdb\\xb9Y\\x8b\\xf9\\xe7?h=\\x860\\xc3\\x07\\xed\\xffu\\xd2\\xda\\x9cv\\xf9\\x15\\x1b\\xb9\\xf4\\x82\\x7f5:\\x84*',\n",
       " b'\\xf6\\x17\\xf4m\\xf7\\xee\\xca\\x08\\xd6q\\xf0\\xcc\\xe6jk\\x1b\\x87\\xb1\\xd8\\x8d\\xcb\\xc7\\xb0\\x8b\\xcc{\\x16W\\xef&\\x9fl/L\\xc2\\xf4@\\x97\\x13',\n",
       " b'\\x891\\x06u\\x99\\xfd\\x0c<\\x8d.\\xcb\\xfc\\xf2\\xf2\\xe8\\xae9u6\\xf0\\xa5\\xdd\\xf1Y\\x02\\xbe\\x95\\xb2\\x9b\\xac\\xf5\\x8cP6\\x02\\x99n\\xbb\\x0b']"
      ]
     },
     "execution_count": 3,
     "metadata": {},
     "output_type": "execute_result"
    }
   ],
   "source": [
    "import base64\n",
    "textos_cifrados = raw_challenge.splitlines()\n",
    "textos_cifrados_bytes = [base64.b64decode(texto) for texto in textos_cifrados]\n",
    "textos_cifrados_bytes"
   ]
  },
  {
   "cell_type": "code",
   "execution_count": 7,
   "id": "89696dbf-4e7b-4a49-9cb9-bff5a35dbc07",
   "metadata": {},
   "outputs": [
    {
     "name": "stdout",
     "output_type": "stream",
     "text": [
      "Indices: 0;\n",
      "[117, 118, 116, 116, 126, 113, 119, 114, 117, 114, 119, 114, 112, 113, 126, 113, 119, 127, 127, 114, 118, 117, 113, 127, 127, 118, 112, 115, 112, 127, 127, 126, 113, 118, 117, 113, 114, 114, 115]\n",
      "b'\\xe1Yn\\x1d\\xf1\\x95dT\\xe5F\\xa3\\x94\\x9a\\x9a\\x80\\xc6Q\\x1d^\\x98\\xcd\\xb5\\x991j\\xd6\\xfd\\xda\\xf3\\xc4\\x9d\\xe48^j\\xf1\\x06\\xd3c' \n",
      " b'\\x94/\\x1ai\\x8f\\xe4\\x13&\\x904\\xd4\\xe6\\xea\\xeb\\xfe\\xb7&b!\\xea\\xbb\\xc0\\xe8N\\x15\\xa0\\x8d\\xa9\\x83\\xbb\\xe2\\x9aI(\\x1f\\x80t\\xa1\\x10'\n",
      "Indices: 0;\n",
      "[235, 137, 130, 191, 1, 39, 93, 127, 62, 255, 250, 31, 99, 125, 191, 174, 108, 155, 110, 91, 202, 88, 102, 68, 184, 12, 97, 172, 10, 209, 134, 93, 204, 220, 21, 196, 60, 87, 73]\n",
      "b'\\xe1Yn\\x1d\\xf1\\x95dT\\xe5F\\xa3\\x94\\x9a\\x9a\\x80\\xc6Q\\x1d^\\x98\\xcd\\xb5\\x991j\\xd6\\xfd\\xda\\xf3\\xc4\\x9d\\xe48^j\\xf1\\x06\\xd3c' \n",
      " b'\\n\\xd0\\xec\\xa2\\xf0\\xb29+\\xdb\\xb9Y\\x8b\\xf9\\xe7?h=\\x860\\xc3\\x07\\xed\\xffu\\xd2\\xda\\x9cv\\xf9\\x15\\x1b\\xb9\\xf4\\x82\\x7f5:\\x84*'\n",
      "Indices: 0;\n",
      "[23, 78, 154, 112, 6, 123, 174, 92, 51, 55, 83, 88, 124, 240, 235, 221, 214, 172, 134, 21, 6, 114, 41, 186, 166, 173, 235, 141, 28, 226, 2, 136, 23, 18, 168, 5, 70, 68, 112]\n",
      "b'\\xe1Yn\\x1d\\xf1\\x95dT\\xe5F\\xa3\\x94\\x9a\\x9a\\x80\\xc6Q\\x1d^\\x98\\xcd\\xb5\\x991j\\xd6\\xfd\\xda\\xf3\\xc4\\x9d\\xe48^j\\xf1\\x06\\xd3c' \n",
      " b'\\xf6\\x17\\xf4m\\xf7\\xee\\xca\\x08\\xd6q\\xf0\\xcc\\xe6jk\\x1b\\x87\\xb1\\xd8\\x8d\\xcb\\xc7\\xb0\\x8b\\xcc{\\x16W\\xef&\\x9fl/L\\xc2\\xf4@\\x97\\x13'\n",
      "Indices: 0;\n",
      "[104, 104, 104, 104, 104, 104, 104, 104, 104, 104, 104, 104, 104, 104, 104, 104, 104, 104, 104, 104, 104, 104, 104, 104, 104, 104, 104, 104, 104, 104, 104, 104, 104, 104, 104, 104, 104, 104, 104]\n",
      "b'\\xe1Yn\\x1d\\xf1\\x95dT\\xe5F\\xa3\\x94\\x9a\\x9a\\x80\\xc6Q\\x1d^\\x98\\xcd\\xb5\\x991j\\xd6\\xfd\\xda\\xf3\\xc4\\x9d\\xe48^j\\xf1\\x06\\xd3c' \n",
      " b'\\x891\\x06u\\x99\\xfd\\x0c<\\x8d.\\xcb\\xfc\\xf2\\xf2\\xe8\\xae9u6\\xf0\\xa5\\xdd\\xf1Y\\x02\\xbe\\x95\\xb2\\x9b\\xac\\xf5\\x8cP6\\x02\\x99n\\xbb\\x0b'\n",
      "Indices: 1;\n",
      "[158, 255, 246, 203, 127, 86, 42, 13, 75, 141, 141, 109, 19, 12, 193, 223, 27, 228, 17, 41, 188, 45, 23, 59, 199, 122, 17, 223, 122, 174, 249, 35, 189, 170, 96, 181, 78, 37, 58]\n",
      "b'\\x94/\\x1ai\\x8f\\xe4\\x13&\\x904\\xd4\\xe6\\xea\\xeb\\xfe\\xb7&b!\\xea\\xbb\\xc0\\xe8N\\x15\\xa0\\x8d\\xa9\\x83\\xbb\\xe2\\x9aI(\\x1f\\x80t\\xa1\\x10' \n",
      " b'\\n\\xd0\\xec\\xa2\\xf0\\xb29+\\xdb\\xb9Y\\x8b\\xf9\\xe7?h=\\x860\\xc3\\x07\\xed\\xffu\\xd2\\xda\\x9cv\\xf9\\x15\\x1b\\xb9\\xf4\\x82\\x7f5:\\x84*'\n",
      "Indices: 1;\n",
      "[98, 56, 238, 4, 120, 10, 217, 46, 70, 69, 36, 42, 12, 129, 149, 172, 161, 211, 249, 103, 112, 7, 88, 197, 217, 219, 155, 254, 108, 157, 125, 246, 102, 100, 221, 116, 52, 54, 3]\n",
      "b'\\x94/\\x1ai\\x8f\\xe4\\x13&\\x904\\xd4\\xe6\\xea\\xeb\\xfe\\xb7&b!\\xea\\xbb\\xc0\\xe8N\\x15\\xa0\\x8d\\xa9\\x83\\xbb\\xe2\\x9aI(\\x1f\\x80t\\xa1\\x10' \n",
      " b'\\xf6\\x17\\xf4m\\xf7\\xee\\xca\\x08\\xd6q\\xf0\\xcc\\xe6jk\\x1b\\x87\\xb1\\xd8\\x8d\\xcb\\xc7\\xb0\\x8b\\xcc{\\x16W\\xef&\\x9fl/L\\xc2\\xf4@\\x97\\x13'\n",
      "Indices: 1;\n",
      "[29, 30, 28, 28, 22, 25, 31, 26, 29, 26, 31, 26, 24, 25, 22, 25, 31, 23, 23, 26, 30, 29, 25, 23, 23, 30, 24, 27, 24, 23, 23, 22, 25, 30, 29, 25, 26, 26, 27]\n",
      "b'\\x94/\\x1ai\\x8f\\xe4\\x13&\\x904\\xd4\\xe6\\xea\\xeb\\xfe\\xb7&b!\\xea\\xbb\\xc0\\xe8N\\x15\\xa0\\x8d\\xa9\\x83\\xbb\\xe2\\x9aI(\\x1f\\x80t\\xa1\\x10' \n",
      " b'\\x891\\x06u\\x99\\xfd\\x0c<\\x8d.\\xcb\\xfc\\xf2\\xf2\\xe8\\xae9u6\\xf0\\xa5\\xdd\\xf1Y\\x02\\xbe\\x95\\xb2\\x9b\\xac\\xf5\\x8cP6\\x02\\x99n\\xbb\\x0b'\n",
      "Indices: 2;\n",
      "[252, 199, 24, 207, 7, 92, 243, 35, 13, 200, 169, 71, 31, 141, 84, 115, 186, 55, 232, 78, 204, 42, 79, 254, 30, 161, 138, 33, 22, 51, 132, 213, 219, 206, 189, 193, 122, 19, 57]\n",
      "b'\\n\\xd0\\xec\\xa2\\xf0\\xb29+\\xdb\\xb9Y\\x8b\\xf9\\xe7?h=\\x860\\xc3\\x07\\xed\\xffu\\xd2\\xda\\x9cv\\xf9\\x15\\x1b\\xb9\\xf4\\x82\\x7f5:\\x84*' \n",
      " b'\\xf6\\x17\\xf4m\\xf7\\xee\\xca\\x08\\xd6q\\xf0\\xcc\\xe6jk\\x1b\\x87\\xb1\\xd8\\x8d\\xcb\\xc7\\xb0\\x8b\\xcc{\\x16W\\xef&\\x9fl/L\\xc2\\xf4@\\x97\\x13'\n",
      "Indices: 2;\n",
      "[131, 225, 234, 215, 105, 79, 53, 23, 86, 151, 146, 119, 11, 21, 215, 198, 4, 243, 6, 51, 162, 48, 14, 44, 208, 100, 9, 196, 98, 185, 238, 53, 164, 180, 125, 172, 84, 63, 33]\n",
      "b'\\n\\xd0\\xec\\xa2\\xf0\\xb29+\\xdb\\xb9Y\\x8b\\xf9\\xe7?h=\\x860\\xc3\\x07\\xed\\xffu\\xd2\\xda\\x9cv\\xf9\\x15\\x1b\\xb9\\xf4\\x82\\x7f5:\\x84*' \n",
      " b'\\x891\\x06u\\x99\\xfd\\x0c<\\x8d.\\xcb\\xfc\\xf2\\xf2\\xe8\\xae9u6\\xf0\\xa5\\xdd\\xf1Y\\x02\\xbe\\x95\\xb2\\x9b\\xac\\xf5\\x8cP6\\x02\\x99n\\xbb\\x0b'\n",
      "Indices: 3;\n",
      "[127, 38, 242, 24, 110, 19, 198, 52, 91, 95, 59, 48, 20, 152, 131, 181, 190, 196, 238, 125, 110, 26, 65, 210, 206, 197, 131, 229, 116, 138, 106, 224, 127, 122, 192, 109, 46, 44, 24]\n",
      "b'\\xf6\\x17\\xf4m\\xf7\\xee\\xca\\x08\\xd6q\\xf0\\xcc\\xe6jk\\x1b\\x87\\xb1\\xd8\\x8d\\xcb\\xc7\\xb0\\x8b\\xcc{\\x16W\\xef&\\x9fl/L\\xc2\\xf4@\\x97\\x13' \n",
      " b'\\x891\\x06u\\x99\\xfd\\x0c<\\x8d.\\xcb\\xfc\\xf2\\xf2\\xe8\\xae9u6\\xf0\\xa5\\xdd\\xf1Y\\x02\\xbe\\x95\\xb2\\x9b\\xac\\xf5\\x8cP6\\x02\\x99n\\xbb\\x0b'\n"
     ]
    }
   ],
   "source": [
    "# Voy a hacer un xor entre cada uno de los textos a ver que sale especulo que tres de ellos tendrán el mismo keystream\n",
    "combinaciones = []\n",
    "for i, cipher_1 in enumerate(textos_cifrados_bytes):\n",
    "    for cipher_2 in textos_cifrados_bytes[i+1:]:\n",
    "        combo = [c^d for c, d in zip(cipher_1, cipher_2)]\n",
    "        combinaciones.append(combo)\n",
    "        print(f\"Indices: {i};\")\n",
    "        print(f\"{combo}\")\n",
    "        print(f\"{cipher_1} \\n {cipher_2}\")\n"
   ]
  },
  {
   "cell_type": "code",
   "execution_count": 9,
   "id": "1ecd4898-6798-4e8b-9fe4-e8a257e3a686",
   "metadata": {},
   "outputs": [],
   "source": [
    "# Find the all valid pairs of A ^ B = 104\n",
    "posibles_values_char = []\n",
    "for i, a in enumerate(range(33, 127)):\n",
    "    for b in range(33, 127):\n",
    "        if a ^ b == 104:\n",
    "            posibles_values.append(f\"{a} ^ {b}\")\n",
    "        else:\n",
    "            continue\n"
   ]
  },
  {
   "cell_type": "code",
   "execution_count": 7,
   "id": "aa4b4085-f6ce-4ecd-960e-b74c86eb0221",
   "metadata": {},
   "outputs": [
    {
     "data": {
      "text/plain": [
       "['33 ^ 73',\n",
       " '34 ^ 74',\n",
       " '35 ^ 75',\n",
       " '36 ^ 76',\n",
       " '37 ^ 77',\n",
       " '38 ^ 78',\n",
       " '39 ^ 79',\n",
       " '40 ^ 64',\n",
       " '41 ^ 65',\n",
       " '42 ^ 66',\n",
       " '43 ^ 67',\n",
       " '44 ^ 68',\n",
       " '45 ^ 69',\n",
       " '46 ^ 70',\n",
       " '47 ^ 71',\n",
       " '48 ^ 88',\n",
       " '49 ^ 89',\n",
       " '50 ^ 90',\n",
       " '51 ^ 91',\n",
       " '52 ^ 92',\n",
       " '53 ^ 93',\n",
       " '54 ^ 94',\n",
       " '55 ^ 95',\n",
       " '56 ^ 80',\n",
       " '57 ^ 81',\n",
       " '58 ^ 82',\n",
       " '59 ^ 83',\n",
       " '60 ^ 84',\n",
       " '61 ^ 85',\n",
       " '62 ^ 86',\n",
       " '63 ^ 87',\n",
       " '64 ^ 40',\n",
       " '65 ^ 41',\n",
       " '66 ^ 42',\n",
       " '67 ^ 43',\n",
       " '68 ^ 44',\n",
       " '69 ^ 45',\n",
       " '70 ^ 46',\n",
       " '71 ^ 47',\n",
       " '73 ^ 33',\n",
       " '74 ^ 34',\n",
       " '75 ^ 35',\n",
       " '76 ^ 36',\n",
       " '77 ^ 37',\n",
       " '78 ^ 38',\n",
       " '79 ^ 39',\n",
       " '80 ^ 56',\n",
       " '81 ^ 57',\n",
       " '82 ^ 58',\n",
       " '83 ^ 59',\n",
       " '84 ^ 60',\n",
       " '85 ^ 61',\n",
       " '86 ^ 62',\n",
       " '87 ^ 63',\n",
       " '88 ^ 48',\n",
       " '89 ^ 49',\n",
       " '90 ^ 50',\n",
       " '91 ^ 51',\n",
       " '92 ^ 52',\n",
       " '93 ^ 53',\n",
       " '94 ^ 54',\n",
       " '95 ^ 55']"
      ]
     },
     "execution_count": 7,
     "metadata": {},
     "output_type": "execute_result"
    }
   ],
   "source": [
    "posibles_values"
   ]
  }
 ],
 "metadata": {
  "kernelspec": {
   "display_name": "Python 3 (ipykernel)",
   "language": "python",
   "name": "python3"
  },
  "language_info": {
   "codemirror_mode": {
    "name": "ipython",
    "version": 3
   },
   "file_extension": ".py",
   "mimetype": "text/x-python",
   "name": "python",
   "nbconvert_exporter": "python",
   "pygments_lexer": "ipython3",
   "version": "3.13.7"
  }
 },
 "nbformat": 4,
 "nbformat_minor": 5
}
